{
  "nbformat": 4,
  "nbformat_minor": 0,
  "metadata": {
    "colab": {
      "provenance": []
    },
    "kernelspec": {
      "name": "python3",
      "display_name": "Python 3"
    },
    "language_info": {
      "name": "python"
    },
    "accelerator": "GPU",
    "gpuClass": "standard"
  },
  "cells": [
    {
      "cell_type": "markdown",
      "source": [
        "### **Importing Libraries**"
      ],
      "metadata": {
        "id": "Xzxgd3tRNVId"
      }
    },
    {
      "cell_type": "code",
      "execution_count": 108,
      "metadata": {
        "colab": {
          "base_uri": "https://localhost:8080/"
        },
        "id": "pjcbi34nNRqz",
        "outputId": "7c624464-c5a3-44f5-b720-b3f9f00e2505"
      },
      "outputs": [
        {
          "output_type": "stream",
          "name": "stderr",
          "text": [
            "[nltk_data] Downloading package stopwords to /root/nltk_data...\n",
            "[nltk_data]   Package stopwords is already up-to-date!\n"
          ]
        },
        {
          "output_type": "stream",
          "name": "stdout",
          "text": [
            "Looking in indexes: https://pypi.org/simple, https://us-python.pkg.dev/colab-wheels/public/simple/\n",
            "Requirement already satisfied: transformers in /usr/local/lib/python3.9/dist-packages (4.28.1)\n",
            "Requirement already satisfied: huggingface-hub<1.0,>=0.11.0 in /usr/local/lib/python3.9/dist-packages (from transformers) (0.14.0)\n",
            "Requirement already satisfied: requests in /usr/local/lib/python3.9/dist-packages (from transformers) (2.27.1)\n",
            "Requirement already satisfied: numpy>=1.17 in /usr/local/lib/python3.9/dist-packages (from transformers) (1.22.4)\n",
            "Requirement already satisfied: tokenizers!=0.11.3,<0.14,>=0.11.1 in /usr/local/lib/python3.9/dist-packages (from transformers) (0.13.3)\n",
            "Requirement already satisfied: packaging>=20.0 in /usr/local/lib/python3.9/dist-packages (from transformers) (23.1)\n",
            "Requirement already satisfied: filelock in /usr/local/lib/python3.9/dist-packages (from transformers) (3.11.0)\n",
            "Requirement already satisfied: pyyaml>=5.1 in /usr/local/lib/python3.9/dist-packages (from transformers) (6.0)\n",
            "Requirement already satisfied: regex!=2019.12.17 in /usr/local/lib/python3.9/dist-packages (from transformers) (2022.10.31)\n",
            "Requirement already satisfied: tqdm>=4.27 in /usr/local/lib/python3.9/dist-packages (from transformers) (4.65.0)\n",
            "Requirement already satisfied: fsspec in /usr/local/lib/python3.9/dist-packages (from huggingface-hub<1.0,>=0.11.0->transformers) (2023.4.0)\n",
            "Requirement already satisfied: typing-extensions>=3.7.4.3 in /usr/local/lib/python3.9/dist-packages (from huggingface-hub<1.0,>=0.11.0->transformers) (4.5.0)\n",
            "Requirement already satisfied: urllib3<1.27,>=1.21.1 in /usr/local/lib/python3.9/dist-packages (from requests->transformers) (1.26.15)\n",
            "Requirement already satisfied: charset-normalizer~=2.0.0 in /usr/local/lib/python3.9/dist-packages (from requests->transformers) (2.0.12)\n",
            "Requirement already satisfied: idna<4,>=2.5 in /usr/local/lib/python3.9/dist-packages (from requests->transformers) (3.4)\n",
            "Requirement already satisfied: certifi>=2017.4.17 in /usr/local/lib/python3.9/dist-packages (from requests->transformers) (2022.12.7)\n"
          ]
        }
      ],
      "source": [
        "\n",
        "# This part will import several libraries, including pandas, numpy, scikit-learn, nltk, torch, transformers, and gensim. \n",
        "# I will also sets a pandas option to display the full width of column\n",
        "# Imports specific classes and functions from some libraries, such as BertModel and BertTokenizer from transformers, and Dense, Embedding, Conv1D, GlobalMaxPooling1D, Dropout, and Sequential from tensorflow.keras.layers. \n",
        "# Imports a model from gensim (KeyedVectors)\n",
        "\n",
        "import pandas as pd\n",
        "import numpy as np\n",
        "import os\n",
        "pd.set_option('display.max_colwidth', None) #This will allow us to see the full\n",
        "                                            # width of the column\n",
        "import pickle\n",
        "from sklearn.feature_extraction.text import CountVectorizer, TfidfVectorizer\n",
        "from sklearn.svm import SVC\n",
        "from sklearn.metrics import classification_report\n",
        "import nltk\n",
        "nltk.download('stopwords')\n",
        "from sklearn.metrics import accuracy_score, f1_score, precision_score, recall_score, confusion_matrix\n",
        "from termcolor import colored\n",
        "from sklearn.model_selection import StratifiedShuffleSplit\n",
        "import torch\n",
        "!pip install transformers\n",
        "import transformers\n",
        "from transformers import BertModel, BertTokenizer\n",
        "from sklearn.metrics import classification_report\n",
        "from torch.utils.data import Dataset, DataLoader\n",
        "from torch import nn, optim\n",
        "from torch.utils.data import Dataset, TensorDataset\n",
        "import numpy as np\n",
        "import pandas as pd\n",
        "import tensorflow as tf\n",
        "from tensorflow.keras.layers import Dense, Embedding, Conv1D, GlobalMaxPooling1D, Dropout\n",
        "from tensorflow.keras.models import Sequential\n",
        "from sklearn.metrics import classification_report\n",
        "from sklearn.model_selection import train_test_split\n",
        "from gensim.models import KeyedVectors"
      ]
    },
    {
      "cell_type": "code",
      "source": [
        "# This code snippet imports the warnings library and sets a filter to ignore future warnings\n",
        "\n",
        "import warnings\n",
        "warnings.simplefilter(action='ignore', category=FutureWarning)"
      ],
      "metadata": {
        "id": "01tLmm2FCZlq"
      },
      "execution_count": 109,
      "outputs": []
    },
    {
      "cell_type": "code",
      "source": [
        "# Mount Google Drive, to access files and data stored in my Google Drive.\n",
        "\n",
        "from google.colab import drive\n",
        "drive.mount('/content/gdrive', force_remount=True)"
      ],
      "metadata": {
        "colab": {
          "base_uri": "https://localhost:8080/"
        },
        "id": "iB3cHBopNad_",
        "outputId": "9249fd75-2e91-4bdf-9fba-b3e48010b292"
      },
      "execution_count": 110,
      "outputs": [
        {
          "output_type": "stream",
          "name": "stdout",
          "text": [
            "Mounted at /content/gdrive\n"
          ]
        }
      ]
    },
    {
      "cell_type": "markdown",
      "source": [
        "### **Configuring Pathways**"
      ],
      "metadata": {
        "id": "e13g1euLOtHx"
      }
    },
    {
      "cell_type": "code",
      "source": [
        "student_id=2213409\n",
        "np.random.seed(student_id)\n",
        "\n",
        "GOOGLE_DRIVE_PATH_AFTER_MYDRIVE = os.path.join('./CE807/Assignment2/',str(student_id)) # Make sure to update with your student_id and student_id is an integer\n",
        "GOOGLE_DRIVE_PATH = os.path.join('gdrive', 'MyDrive', GOOGLE_DRIVE_PATH_AFTER_MYDRIVE)\n",
        "print('List files: ', os.listdir(GOOGLE_DRIVE_PATH))\n",
        "\n",
        "train_file = os.path.join(GOOGLE_DRIVE_PATH, 'train.csv')\n",
        "print('Train file: ', train_file)\n",
        "\n",
        "test_file = os.path.join(GOOGLE_DRIVE_PATH, 'test.csv')\n",
        "print('Test file: ', train_file)\n",
        "\n",
        "\n",
        "valid_file = os.path.join(GOOGLE_DRIVE_PATH, 'valid.csv')\n",
        "print('Valid file: ', train_file)\n",
        "\n",
        "MODEL_1_DIRECTORY = os.path.join(GOOGLE_DRIVE_PATH, 'models', '1') # Model 1 directory\n",
        "print('Model 1 directory: ', MODEL_1_DIRECTORY)\n",
        "\n",
        "MODEL_2_DIRECTORY = os.path.join(GOOGLE_DRIVE_PATH, 'models', '2') # Model 1 directory\n",
        "print('Model 2 directory: ', MODEL_1_DIRECTORY)\n",
        "\n",
        "#This is just to show how the pathways will later on be accessed\n",
        "#Taken from the example colab notebook shared to verify its working\n",
        "MODEL_1_25_DIRECTORY = os.path.join(MODEL_1_DIRECTORY,'25') # Model 1 trained using 25% of train data directory\n",
        "print('Model 1 directory with 25% data: ', MODEL_1_25_DIRECTORY)\n",
        "\n",
        "MODEL_2_25_DIRECTORY = os.path.join(MODEL_2_DIRECTORY,'25') # Model 1 trained using 25% of train data directory\n",
        "print('Model 1 directory with 25% data: ', MODEL_2_25_DIRECTORY)\n",
        "\n",
        "model_1_25_output_test_file = os.path.join(MODEL_1_25_DIRECTORY, 'output_test.csv') # Output file using Model 1 trained using 25% of train data \n",
        "print('Output file name using model 1 using 25% of train data: ',model_1_25_output_test_file)\n",
        "# You need to do this for both models and all data sizes "
      ],
      "metadata": {
        "colab": {
          "base_uri": "https://localhost:8080/"
        },
        "id": "uhg2imaeOZAJ",
        "outputId": "d7d79330-c53e-4a6b-a0c5-d93182cd1052"
      },
      "execution_count": 111,
      "outputs": [
        {
          "output_type": "stream",
          "name": "stdout",
          "text": [
            "List files:  ['wiki-news-300d-1M.vec',\n",
            " 'train.csv',\n",
            " 'valid.csv',\n",
            " 'test.csv',\n",
            " 'models',\n",
            " 'Text_Analytics.ipynb']\n",
            "Train file:  gdrive/MyDrive/./CE807/Assignment2/2213409/train.csv\n",
            "Test file:  gdrive/MyDrive/./CE807/Assignment2/2213409/train.csv\n",
            "Valid file:  gdrive/MyDrive/./CE807/Assignment2/2213409/train.csv\n",
            "Model 1 directory:  gdrive/MyDrive/./CE807/Assignment2/2213409/models/1\n",
            "Model 2 directory:  gdrive/MyDrive/./CE807/Assignment2/2213409/models/1\n",
            "Model 1 directory with 25% data:  gdrive/MyDrive/./CE807/Assignment2/2213409/models/1/25\n",
            "Model 1 directory with 25% data:  gdrive/MyDrive/./CE807/Assignment2/2213409/models/2/25\n",
            "Output file name using model 1 using 25% of train data:  gdrive/MyDrive/./CE807/Assignment2/2213409/models/1/25/output_test.csv\n"
          ]
        }
      ]
    },
    {
      "cell_type": "markdown",
      "source": [
        "### Data Reading & Statistics"
      ],
      "metadata": {
        "id": "rN3XN7iOUFpg"
      }
    },
    {
      "cell_type": "markdown",
      "source": [
        "Here I am observing Train file's first five rows"
      ],
      "metadata": {
        "id": "ofDAHyiPQIUd"
      }
    },
    {
      "cell_type": "code",
      "source": [
        "train_df = pd.read_csv(train_file)\n",
        "train_df.head()"
      ],
      "metadata": {
        "colab": {
          "base_uri": "https://localhost:8080/",
          "height": 0
        },
        "id": "k97pcDefOsXt",
        "outputId": "5a5d1c58-29c9-4688-b726-15ac108c22f8"
      },
      "execution_count": 112,
      "outputs": [
        {
          "output_type": "execute_result",
          "data": {
            "text/plain": [
              "      id  \\\n",
              "0  42884   \n",
              "1  92152   \n",
              "2  65475   \n",
              "3  22144   \n",
              "4  81048   \n",
              "\n",
              "                                                                                                                                                                                                                                                                                                     tweet  \\\n",
              "0                            @USER I’m done with you as well. An INTENTIONAL 11th hour attack completely based on hearsay and you want an investigation? What do you think they’ll find other than he said she said. Feinstein admitted she sat on this and here you are ready to lockstep with the swamp.   \n",
              "1                                                                                                                                                                                                                 I now have over 6k followers.  Only 94k to go to get to my goal!  #TrumpTrain #MAGA #KAG   \n",
              "2                                                                                                                                                                                                                                 @USER Tom was bought! He is more interested in Tom than his constituents   \n",
              "3                                                                                                                                                                                                                                                @USER @USER Even her brother thinks she is a monster: URL   \n",
              "4  @USER @USER @USER @USER @USER I can understand that and if it’s someone I know I’ll debate with them but I’m not willing to spend that much time trying to change the mind of someone I don’t know I tryed that with people and gun control and it just get stupid because they won’t try to understand   \n",
              "\n",
              "  label  \n",
              "0   NOT  \n",
              "1   NOT  \n",
              "2   NOT  \n",
              "3   OFF  \n",
              "4   OFF  "
            ],
            "text/html": [
              "\n",
              "  <div id=\"df-e44e43e0-aca3-427a-9990-aab3aeb2ff1e\">\n",
              "    <div class=\"colab-df-container\">\n",
              "      <div>\n",
              "<style scoped>\n",
              "    .dataframe tbody tr th:only-of-type {\n",
              "        vertical-align: middle;\n",
              "    }\n",
              "\n",
              "    .dataframe tbody tr th {\n",
              "        vertical-align: top;\n",
              "    }\n",
              "\n",
              "    .dataframe thead th {\n",
              "        text-align: right;\n",
              "    }\n",
              "</style>\n",
              "<table border=\"1\" class=\"dataframe\">\n",
              "  <thead>\n",
              "    <tr style=\"text-align: right;\">\n",
              "      <th></th>\n",
              "      <th>id</th>\n",
              "      <th>tweet</th>\n",
              "      <th>label</th>\n",
              "    </tr>\n",
              "  </thead>\n",
              "  <tbody>\n",
              "    <tr>\n",
              "      <th>0</th>\n",
              "      <td>42884</td>\n",
              "      <td>@USER I’m done with you as well. An INTENTIONAL 11th hour attack completely based on hearsay and you want an investigation? What do you think they’ll find other than he said she said. Feinstein admitted she sat on this and here you are ready to lockstep with the swamp.</td>\n",
              "      <td>NOT</td>\n",
              "    </tr>\n",
              "    <tr>\n",
              "      <th>1</th>\n",
              "      <td>92152</td>\n",
              "      <td>I now have over 6k followers.  Only 94k to go to get to my goal!  #TrumpTrain #MAGA #KAG</td>\n",
              "      <td>NOT</td>\n",
              "    </tr>\n",
              "    <tr>\n",
              "      <th>2</th>\n",
              "      <td>65475</td>\n",
              "      <td>@USER Tom was bought! He is more interested in Tom than his constituents</td>\n",
              "      <td>NOT</td>\n",
              "    </tr>\n",
              "    <tr>\n",
              "      <th>3</th>\n",
              "      <td>22144</td>\n",
              "      <td>@USER @USER Even her brother thinks she is a monster: URL</td>\n",
              "      <td>OFF</td>\n",
              "    </tr>\n",
              "    <tr>\n",
              "      <th>4</th>\n",
              "      <td>81048</td>\n",
              "      <td>@USER @USER @USER @USER @USER I can understand that and if it’s someone I know I’ll debate with them but I’m not willing to spend that much time trying to change the mind of someone I don’t know I tryed that with people and gun control and it just get stupid because they won’t try to understand</td>\n",
              "      <td>OFF</td>\n",
              "    </tr>\n",
              "  </tbody>\n",
              "</table>\n",
              "</div>\n",
              "      <button class=\"colab-df-convert\" onclick=\"convertToInteractive('df-e44e43e0-aca3-427a-9990-aab3aeb2ff1e')\"\n",
              "              title=\"Convert this dataframe to an interactive table.\"\n",
              "              style=\"display:none;\">\n",
              "        \n",
              "  <svg xmlns=\"http://www.w3.org/2000/svg\" height=\"24px\"viewBox=\"0 0 24 24\"\n",
              "       width=\"24px\">\n",
              "    <path d=\"M0 0h24v24H0V0z\" fill=\"none\"/>\n",
              "    <path d=\"M18.56 5.44l.94 2.06.94-2.06 2.06-.94-2.06-.94-.94-2.06-.94 2.06-2.06.94zm-11 1L8.5 8.5l.94-2.06 2.06-.94-2.06-.94L8.5 2.5l-.94 2.06-2.06.94zm10 10l.94 2.06.94-2.06 2.06-.94-2.06-.94-.94-2.06-.94 2.06-2.06.94z\"/><path d=\"M17.41 7.96l-1.37-1.37c-.4-.4-.92-.59-1.43-.59-.52 0-1.04.2-1.43.59L10.3 9.45l-7.72 7.72c-.78.78-.78 2.05 0 2.83L4 21.41c.39.39.9.59 1.41.59.51 0 1.02-.2 1.41-.59l7.78-7.78 2.81-2.81c.8-.78.8-2.07 0-2.86zM5.41 20L4 18.59l7.72-7.72 1.47 1.35L5.41 20z\"/>\n",
              "  </svg>\n",
              "      </button>\n",
              "      \n",
              "  <style>\n",
              "    .colab-df-container {\n",
              "      display:flex;\n",
              "      flex-wrap:wrap;\n",
              "      gap: 12px;\n",
              "    }\n",
              "\n",
              "    .colab-df-convert {\n",
              "      background-color: #E8F0FE;\n",
              "      border: none;\n",
              "      border-radius: 50%;\n",
              "      cursor: pointer;\n",
              "      display: none;\n",
              "      fill: #1967D2;\n",
              "      height: 32px;\n",
              "      padding: 0 0 0 0;\n",
              "      width: 32px;\n",
              "    }\n",
              "\n",
              "    .colab-df-convert:hover {\n",
              "      background-color: #E2EBFA;\n",
              "      box-shadow: 0px 1px 2px rgba(60, 64, 67, 0.3), 0px 1px 3px 1px rgba(60, 64, 67, 0.15);\n",
              "      fill: #174EA6;\n",
              "    }\n",
              "\n",
              "    [theme=dark] .colab-df-convert {\n",
              "      background-color: #3B4455;\n",
              "      fill: #D2E3FC;\n",
              "    }\n",
              "\n",
              "    [theme=dark] .colab-df-convert:hover {\n",
              "      background-color: #434B5C;\n",
              "      box-shadow: 0px 1px 3px 1px rgba(0, 0, 0, 0.15);\n",
              "      filter: drop-shadow(0px 1px 2px rgba(0, 0, 0, 0.3));\n",
              "      fill: #FFFFFF;\n",
              "    }\n",
              "  </style>\n",
              "\n",
              "      <script>\n",
              "        const buttonEl =\n",
              "          document.querySelector('#df-e44e43e0-aca3-427a-9990-aab3aeb2ff1e button.colab-df-convert');\n",
              "        buttonEl.style.display =\n",
              "          google.colab.kernel.accessAllowed ? 'block' : 'none';\n",
              "\n",
              "        async function convertToInteractive(key) {\n",
              "          const element = document.querySelector('#df-e44e43e0-aca3-427a-9990-aab3aeb2ff1e');\n",
              "          const dataTable =\n",
              "            await google.colab.kernel.invokeFunction('convertToInteractive',\n",
              "                                                     [key], {});\n",
              "          if (!dataTable) return;\n",
              "\n",
              "          const docLinkHtml = 'Like what you see? Visit the ' +\n",
              "            '<a target=\"_blank\" href=https://colab.research.google.com/notebooks/data_table.ipynb>data table notebook</a>'\n",
              "            + ' to learn more about interactive tables.';\n",
              "          element.innerHTML = '';\n",
              "          dataTable['output_type'] = 'display_data';\n",
              "          await google.colab.output.renderOutput(dataTable, element);\n",
              "          const docLink = document.createElement('div');\n",
              "          docLink.innerHTML = docLinkHtml;\n",
              "          element.appendChild(docLink);\n",
              "        }\n",
              "      </script>\n",
              "    </div>\n",
              "  </div>\n",
              "  "
            ]
          },
          "metadata": {},
          "execution_count": 112
        }
      ]
    },
    {
      "cell_type": "markdown",
      "source": [
        "Here I am checking if there is any imbalance in train_data."
      ],
      "metadata": {
        "id": "pGVV2a_kSKbB"
      }
    },
    {
      "cell_type": "code",
      "source": [
        "train_df.groupby(['label']).size()"
      ],
      "metadata": {
        "colab": {
          "base_uri": "https://localhost:8080/"
        },
        "id": "umc0Gd4USMKE",
        "outputId": "02694ea5-ace3-4358-dd58-dbcac5f43b03"
      },
      "execution_count": 113,
      "outputs": [
        {
          "output_type": "execute_result",
          "data": {
            "text/plain": [
              "label\n",
              "NOT    8221\n",
              "OFF    4092\n",
              "dtype: int64"
            ]
          },
          "metadata": {},
          "execution_count": 113
        }
      ]
    },
    {
      "cell_type": "markdown",
      "source": [
        "Here i am observing Test file's first five rows.\n"
      ],
      "metadata": {
        "id": "9Q5CQ1i4QN7g"
      }
    },
    {
      "cell_type": "code",
      "source": [
        "test_df = pd.read_csv(test_file)\n",
        "test_df.head()"
      ],
      "metadata": {
        "colab": {
          "base_uri": "https://localhost:8080/",
          "height": 0
        },
        "id": "BkTkSNzQPvCm",
        "outputId": "ec417915-5e55-4573-b130-39de8271bc93"
      },
      "execution_count": 114,
      "outputs": [
        {
          "output_type": "execute_result",
          "data": {
            "text/plain": [
              "      id  \\\n",
              "0  15923   \n",
              "1  27014   \n",
              "2  30530   \n",
              "3  13876   \n",
              "4  60133   \n",
              "\n",
              "                                                                                                                                                                                                                                                   tweet  \\\n",
              "0  #WhoIsQ #WheresTheServer #DumpNike #DECLASFISA Democrats Support Antifa, Muslim Brotherhood, MS13, ISIS, Pedophilia, Child Trafficking, Taxpayer Funded Abortion’s, Election Fraud, Sedition And Treason!!! #LockThemAllUp #WWG1WGA #QAnon ⁦@USER URL   \n",
              "1                                                                                                                                        #ConstitutionDay is revered by Conservatives, hated by Progressives/Socialist/Democrats that want to change it.   \n",
              "2                                           #FOXNews #NRA #MAGA #POTUS #TRUMP #2ndAmendment #RNC #USMC #veterans @USER    @USER @USER @USER @USER   #fakereporting #THESWAMP #dnc #liberals @USER @USER #fakeoutrage @USER  First, it reduces the ca URL   \n",
              "3                                                                                                            #Watching #Boomer getting the news that she is still up for parole always makes me smile. #Wentworth Finale...@USER is such a treasure. URL   \n",
              "4                                                                                                                                                     #NoPasaran: Unity demo to oppose the far-right in #London – #antifa #Oct13 — Enough is Enough! URL   \n",
              "\n",
              "  label  \n",
              "0   OFF  \n",
              "1   NOT  \n",
              "2   NOT  \n",
              "3   NOT  \n",
              "4   OFF  "
            ],
            "text/html": [
              "\n",
              "  <div id=\"df-48d6d17b-8f2b-45dd-b673-18ec520506ff\">\n",
              "    <div class=\"colab-df-container\">\n",
              "      <div>\n",
              "<style scoped>\n",
              "    .dataframe tbody tr th:only-of-type {\n",
              "        vertical-align: middle;\n",
              "    }\n",
              "\n",
              "    .dataframe tbody tr th {\n",
              "        vertical-align: top;\n",
              "    }\n",
              "\n",
              "    .dataframe thead th {\n",
              "        text-align: right;\n",
              "    }\n",
              "</style>\n",
              "<table border=\"1\" class=\"dataframe\">\n",
              "  <thead>\n",
              "    <tr style=\"text-align: right;\">\n",
              "      <th></th>\n",
              "      <th>id</th>\n",
              "      <th>tweet</th>\n",
              "      <th>label</th>\n",
              "    </tr>\n",
              "  </thead>\n",
              "  <tbody>\n",
              "    <tr>\n",
              "      <th>0</th>\n",
              "      <td>15923</td>\n",
              "      <td>#WhoIsQ #WheresTheServer #DumpNike #DECLASFISA Democrats Support Antifa, Muslim Brotherhood, MS13, ISIS, Pedophilia, Child Trafficking, Taxpayer Funded Abortion’s, Election Fraud, Sedition And Treason!!! #LockThemAllUp #WWG1WGA #QAnon ⁦@USER URL</td>\n",
              "      <td>OFF</td>\n",
              "    </tr>\n",
              "    <tr>\n",
              "      <th>1</th>\n",
              "      <td>27014</td>\n",
              "      <td>#ConstitutionDay is revered by Conservatives, hated by Progressives/Socialist/Democrats that want to change it.</td>\n",
              "      <td>NOT</td>\n",
              "    </tr>\n",
              "    <tr>\n",
              "      <th>2</th>\n",
              "      <td>30530</td>\n",
              "      <td>#FOXNews #NRA #MAGA #POTUS #TRUMP #2ndAmendment #RNC #USMC #veterans @USER    @USER @USER @USER @USER   #fakereporting #THESWAMP #dnc #liberals @USER @USER #fakeoutrage @USER  First, it reduces the ca URL</td>\n",
              "      <td>NOT</td>\n",
              "    </tr>\n",
              "    <tr>\n",
              "      <th>3</th>\n",
              "      <td>13876</td>\n",
              "      <td>#Watching #Boomer getting the news that she is still up for parole always makes me smile. #Wentworth Finale...@USER is such a treasure. URL</td>\n",
              "      <td>NOT</td>\n",
              "    </tr>\n",
              "    <tr>\n",
              "      <th>4</th>\n",
              "      <td>60133</td>\n",
              "      <td>#NoPasaran: Unity demo to oppose the far-right in #London – #antifa #Oct13 — Enough is Enough! URL</td>\n",
              "      <td>OFF</td>\n",
              "    </tr>\n",
              "  </tbody>\n",
              "</table>\n",
              "</div>\n",
              "      <button class=\"colab-df-convert\" onclick=\"convertToInteractive('df-48d6d17b-8f2b-45dd-b673-18ec520506ff')\"\n",
              "              title=\"Convert this dataframe to an interactive table.\"\n",
              "              style=\"display:none;\">\n",
              "        \n",
              "  <svg xmlns=\"http://www.w3.org/2000/svg\" height=\"24px\"viewBox=\"0 0 24 24\"\n",
              "       width=\"24px\">\n",
              "    <path d=\"M0 0h24v24H0V0z\" fill=\"none\"/>\n",
              "    <path d=\"M18.56 5.44l.94 2.06.94-2.06 2.06-.94-2.06-.94-.94-2.06-.94 2.06-2.06.94zm-11 1L8.5 8.5l.94-2.06 2.06-.94-2.06-.94L8.5 2.5l-.94 2.06-2.06.94zm10 10l.94 2.06.94-2.06 2.06-.94-2.06-.94-.94-2.06-.94 2.06-2.06.94z\"/><path d=\"M17.41 7.96l-1.37-1.37c-.4-.4-.92-.59-1.43-.59-.52 0-1.04.2-1.43.59L10.3 9.45l-7.72 7.72c-.78.78-.78 2.05 0 2.83L4 21.41c.39.39.9.59 1.41.59.51 0 1.02-.2 1.41-.59l7.78-7.78 2.81-2.81c.8-.78.8-2.07 0-2.86zM5.41 20L4 18.59l7.72-7.72 1.47 1.35L5.41 20z\"/>\n",
              "  </svg>\n",
              "      </button>\n",
              "      \n",
              "  <style>\n",
              "    .colab-df-container {\n",
              "      display:flex;\n",
              "      flex-wrap:wrap;\n",
              "      gap: 12px;\n",
              "    }\n",
              "\n",
              "    .colab-df-convert {\n",
              "      background-color: #E8F0FE;\n",
              "      border: none;\n",
              "      border-radius: 50%;\n",
              "      cursor: pointer;\n",
              "      display: none;\n",
              "      fill: #1967D2;\n",
              "      height: 32px;\n",
              "      padding: 0 0 0 0;\n",
              "      width: 32px;\n",
              "    }\n",
              "\n",
              "    .colab-df-convert:hover {\n",
              "      background-color: #E2EBFA;\n",
              "      box-shadow: 0px 1px 2px rgba(60, 64, 67, 0.3), 0px 1px 3px 1px rgba(60, 64, 67, 0.15);\n",
              "      fill: #174EA6;\n",
              "    }\n",
              "\n",
              "    [theme=dark] .colab-df-convert {\n",
              "      background-color: #3B4455;\n",
              "      fill: #D2E3FC;\n",
              "    }\n",
              "\n",
              "    [theme=dark] .colab-df-convert:hover {\n",
              "      background-color: #434B5C;\n",
              "      box-shadow: 0px 1px 3px 1px rgba(0, 0, 0, 0.15);\n",
              "      filter: drop-shadow(0px 1px 2px rgba(0, 0, 0, 0.3));\n",
              "      fill: #FFFFFF;\n",
              "    }\n",
              "  </style>\n",
              "\n",
              "      <script>\n",
              "        const buttonEl =\n",
              "          document.querySelector('#df-48d6d17b-8f2b-45dd-b673-18ec520506ff button.colab-df-convert');\n",
              "        buttonEl.style.display =\n",
              "          google.colab.kernel.accessAllowed ? 'block' : 'none';\n",
              "\n",
              "        async function convertToInteractive(key) {\n",
              "          const element = document.querySelector('#df-48d6d17b-8f2b-45dd-b673-18ec520506ff');\n",
              "          const dataTable =\n",
              "            await google.colab.kernel.invokeFunction('convertToInteractive',\n",
              "                                                     [key], {});\n",
              "          if (!dataTable) return;\n",
              "\n",
              "          const docLinkHtml = 'Like what you see? Visit the ' +\n",
              "            '<a target=\"_blank\" href=https://colab.research.google.com/notebooks/data_table.ipynb>data table notebook</a>'\n",
              "            + ' to learn more about interactive tables.';\n",
              "          element.innerHTML = '';\n",
              "          dataTable['output_type'] = 'display_data';\n",
              "          await google.colab.output.renderOutput(dataTable, element);\n",
              "          const docLink = document.createElement('div');\n",
              "          docLink.innerHTML = docLinkHtml;\n",
              "          element.appendChild(docLink);\n",
              "        }\n",
              "      </script>\n",
              "    </div>\n",
              "  </div>\n",
              "  "
            ]
          },
          "metadata": {},
          "execution_count": 114
        }
      ]
    },
    {
      "cell_type": "markdown",
      "source": [],
      "metadata": {
        "id": "e3HUhGE30TOT"
      }
    },
    {
      "cell_type": "markdown",
      "source": [
        "Here I am checking if there is any imbalance in test_df."
      ],
      "metadata": {
        "id": "djtlzLt4SaNO"
      }
    },
    {
      "cell_type": "code",
      "source": [
        "\n",
        "test_df.groupby(['label']).size()"
      ],
      "metadata": {
        "colab": {
          "base_uri": "https://localhost:8080/"
        },
        "id": "rHy0SxgfScmr",
        "outputId": "d193b224-42a8-4d65-a29c-7df6ae8e5eb6"
      },
      "execution_count": 115,
      "outputs": [
        {
          "output_type": "execute_result",
          "data": {
            "text/plain": [
              "label\n",
              "NOT    620\n",
              "OFF    240\n",
              "dtype: int64"
            ]
          },
          "metadata": {},
          "execution_count": 115
        }
      ]
    },
    {
      "cell_type": "markdown",
      "source": [
        "Here I am observing Valid file's first five rows."
      ],
      "metadata": {
        "id": "veZN4z3dQPht"
      }
    },
    {
      "cell_type": "code",
      "source": [
        "valid_df = pd.read_csv(valid_file)\n",
        "valid_df.head()"
      ],
      "metadata": {
        "colab": {
          "base_uri": "https://localhost:8080/",
          "height": 0
        },
        "id": "I_4SbR7DPvjq",
        "outputId": "a2ed5629-0595-4cc8-844b-1dd4f3f08d12"
      },
      "execution_count": 116,
      "outputs": [
        {
          "output_type": "execute_result",
          "data": {
            "text/plain": [
              "      id  \\\n",
              "0  12476   \n",
              "1  23242   \n",
              "2  97885   \n",
              "3  43414   \n",
              "4  81403   \n",
              "\n",
              "                                                                                                                                                                                                                  tweet  \\\n",
              "0  @USER @USER @USER Trump is declassifying information and there is nothing you can do about it.  He is NOT the subject of an investigation.  The FBI and DOJ have repeatedly said as much.  Go back to your quackery.   \n",
              "1                                                                                    @USER Ha even with them trying to rig the system. They had no idea about divine intervention we 🙏God answered President Trump 🇺🇸🇺🇸   \n",
              "2                                                                                                                                                          @USER @USER @USER Man you really thought this was it huh URL   \n",
              "3                                           @USER Ms. Clinton - you are a class act. My response to that idiot would likely land me in twitter jail (but would totally be worth it). I hope you run for office one day.   \n",
              "4                                                                                             @USER It’s still here at 753. If someone did this to her or her family she’d be enraged. She is what @USER has let loose.   \n",
              "\n",
              "  label  \n",
              "0   NOT  \n",
              "1   NOT  \n",
              "2   NOT  \n",
              "3   OFF  \n",
              "4   NOT  "
            ],
            "text/html": [
              "\n",
              "  <div id=\"df-858488d7-389c-4b55-b51d-491975dabe8d\">\n",
              "    <div class=\"colab-df-container\">\n",
              "      <div>\n",
              "<style scoped>\n",
              "    .dataframe tbody tr th:only-of-type {\n",
              "        vertical-align: middle;\n",
              "    }\n",
              "\n",
              "    .dataframe tbody tr th {\n",
              "        vertical-align: top;\n",
              "    }\n",
              "\n",
              "    .dataframe thead th {\n",
              "        text-align: right;\n",
              "    }\n",
              "</style>\n",
              "<table border=\"1\" class=\"dataframe\">\n",
              "  <thead>\n",
              "    <tr style=\"text-align: right;\">\n",
              "      <th></th>\n",
              "      <th>id</th>\n",
              "      <th>tweet</th>\n",
              "      <th>label</th>\n",
              "    </tr>\n",
              "  </thead>\n",
              "  <tbody>\n",
              "    <tr>\n",
              "      <th>0</th>\n",
              "      <td>12476</td>\n",
              "      <td>@USER @USER @USER Trump is declassifying information and there is nothing you can do about it.  He is NOT the subject of an investigation.  The FBI and DOJ have repeatedly said as much.  Go back to your quackery.</td>\n",
              "      <td>NOT</td>\n",
              "    </tr>\n",
              "    <tr>\n",
              "      <th>1</th>\n",
              "      <td>23242</td>\n",
              "      <td>@USER Ha even with them trying to rig the system. They had no idea about divine intervention we 🙏God answered President Trump 🇺🇸🇺🇸</td>\n",
              "      <td>NOT</td>\n",
              "    </tr>\n",
              "    <tr>\n",
              "      <th>2</th>\n",
              "      <td>97885</td>\n",
              "      <td>@USER @USER @USER Man you really thought this was it huh URL</td>\n",
              "      <td>NOT</td>\n",
              "    </tr>\n",
              "    <tr>\n",
              "      <th>3</th>\n",
              "      <td>43414</td>\n",
              "      <td>@USER Ms. Clinton - you are a class act. My response to that idiot would likely land me in twitter jail (but would totally be worth it). I hope you run for office one day.</td>\n",
              "      <td>OFF</td>\n",
              "    </tr>\n",
              "    <tr>\n",
              "      <th>4</th>\n",
              "      <td>81403</td>\n",
              "      <td>@USER It’s still here at 753. If someone did this to her or her family she’d be enraged. She is what @USER has let loose.</td>\n",
              "      <td>NOT</td>\n",
              "    </tr>\n",
              "  </tbody>\n",
              "</table>\n",
              "</div>\n",
              "      <button class=\"colab-df-convert\" onclick=\"convertToInteractive('df-858488d7-389c-4b55-b51d-491975dabe8d')\"\n",
              "              title=\"Convert this dataframe to an interactive table.\"\n",
              "              style=\"display:none;\">\n",
              "        \n",
              "  <svg xmlns=\"http://www.w3.org/2000/svg\" height=\"24px\"viewBox=\"0 0 24 24\"\n",
              "       width=\"24px\">\n",
              "    <path d=\"M0 0h24v24H0V0z\" fill=\"none\"/>\n",
              "    <path d=\"M18.56 5.44l.94 2.06.94-2.06 2.06-.94-2.06-.94-.94-2.06-.94 2.06-2.06.94zm-11 1L8.5 8.5l.94-2.06 2.06-.94-2.06-.94L8.5 2.5l-.94 2.06-2.06.94zm10 10l.94 2.06.94-2.06 2.06-.94-2.06-.94-.94-2.06-.94 2.06-2.06.94z\"/><path d=\"M17.41 7.96l-1.37-1.37c-.4-.4-.92-.59-1.43-.59-.52 0-1.04.2-1.43.59L10.3 9.45l-7.72 7.72c-.78.78-.78 2.05 0 2.83L4 21.41c.39.39.9.59 1.41.59.51 0 1.02-.2 1.41-.59l7.78-7.78 2.81-2.81c.8-.78.8-2.07 0-2.86zM5.41 20L4 18.59l7.72-7.72 1.47 1.35L5.41 20z\"/>\n",
              "  </svg>\n",
              "      </button>\n",
              "      \n",
              "  <style>\n",
              "    .colab-df-container {\n",
              "      display:flex;\n",
              "      flex-wrap:wrap;\n",
              "      gap: 12px;\n",
              "    }\n",
              "\n",
              "    .colab-df-convert {\n",
              "      background-color: #E8F0FE;\n",
              "      border: none;\n",
              "      border-radius: 50%;\n",
              "      cursor: pointer;\n",
              "      display: none;\n",
              "      fill: #1967D2;\n",
              "      height: 32px;\n",
              "      padding: 0 0 0 0;\n",
              "      width: 32px;\n",
              "    }\n",
              "\n",
              "    .colab-df-convert:hover {\n",
              "      background-color: #E2EBFA;\n",
              "      box-shadow: 0px 1px 2px rgba(60, 64, 67, 0.3), 0px 1px 3px 1px rgba(60, 64, 67, 0.15);\n",
              "      fill: #174EA6;\n",
              "    }\n",
              "\n",
              "    [theme=dark] .colab-df-convert {\n",
              "      background-color: #3B4455;\n",
              "      fill: #D2E3FC;\n",
              "    }\n",
              "\n",
              "    [theme=dark] .colab-df-convert:hover {\n",
              "      background-color: #434B5C;\n",
              "      box-shadow: 0px 1px 3px 1px rgba(0, 0, 0, 0.15);\n",
              "      filter: drop-shadow(0px 1px 2px rgba(0, 0, 0, 0.3));\n",
              "      fill: #FFFFFF;\n",
              "    }\n",
              "  </style>\n",
              "\n",
              "      <script>\n",
              "        const buttonEl =\n",
              "          document.querySelector('#df-858488d7-389c-4b55-b51d-491975dabe8d button.colab-df-convert');\n",
              "        buttonEl.style.display =\n",
              "          google.colab.kernel.accessAllowed ? 'block' : 'none';\n",
              "\n",
              "        async function convertToInteractive(key) {\n",
              "          const element = document.querySelector('#df-858488d7-389c-4b55-b51d-491975dabe8d');\n",
              "          const dataTable =\n",
              "            await google.colab.kernel.invokeFunction('convertToInteractive',\n",
              "                                                     [key], {});\n",
              "          if (!dataTable) return;\n",
              "\n",
              "          const docLinkHtml = 'Like what you see? Visit the ' +\n",
              "            '<a target=\"_blank\" href=https://colab.research.google.com/notebooks/data_table.ipynb>data table notebook</a>'\n",
              "            + ' to learn more about interactive tables.';\n",
              "          element.innerHTML = '';\n",
              "          dataTable['output_type'] = 'display_data';\n",
              "          await google.colab.output.renderOutput(dataTable, element);\n",
              "          const docLink = document.createElement('div');\n",
              "          docLink.innerHTML = docLinkHtml;\n",
              "          element.appendChild(docLink);\n",
              "        }\n",
              "      </script>\n",
              "    </div>\n",
              "  </div>\n",
              "  "
            ]
          },
          "metadata": {},
          "execution_count": 116
        }
      ]
    },
    {
      "cell_type": "markdown",
      "source": [
        "Here I am checking if there is any imbalance in valid_df."
      ],
      "metadata": {
        "id": "88pW7qEtSgUU"
      }
    },
    {
      "cell_type": "code",
      "source": [
        "valid_df.groupby(['label']).size()"
      ],
      "metadata": {
        "colab": {
          "base_uri": "https://localhost:8080/"
        },
        "id": "iByW1sn_Sjg1",
        "outputId": "d1b7b8a8-011a-4a50-ca0e-0f1e8b2ec33c"
      },
      "execution_count": 117,
      "outputs": [
        {
          "output_type": "execute_result",
          "data": {
            "text/plain": [
              "label\n",
              "NOT    619\n",
              "OFF    308\n",
              "dtype: int64"
            ]
          },
          "metadata": {},
          "execution_count": 117
        }
      ]
    },
    {
      "cell_type": "markdown",
      "source": [
        "Checking splits size"
      ],
      "metadata": {
        "id": "LVwX_RGYQRhm"
      }
    },
    {
      "cell_type": "code",
      "source": [
        "print(len(train_df))\n",
        "print(len(test_df))\n",
        "print(len(valid_df))"
      ],
      "metadata": {
        "colab": {
          "base_uri": "https://localhost:8080/"
        },
        "id": "duD4Xu1NPAsh",
        "outputId": "a3fb49f7-0b42-4b95-94cc-b1e8eb4b4f03"
      },
      "execution_count": 118,
      "outputs": [
        {
          "output_type": "stream",
          "name": "stdout",
          "text": [
            "12313\n",
            "860\n",
            "927\n"
          ]
        }
      ]
    },
    {
      "cell_type": "markdown",
      "source": [
        "We know that in all dataset splits given to us, the data has less offensive and more not offensive tweets, with the ratio being 66.7% being not offensive text."
      ],
      "metadata": {
        "id": "UWRetx31Sumx"
      }
    },
    {
      "cell_type": "markdown",
      "source": [
        "### Data Cleansing"
      ],
      "metadata": {
        "id": "BoGhLEH5UAho"
      }
    },
    {
      "cell_type": "markdown",
      "source": [
        "Removing @USER from the text as it serves no purpose except show how many users were tagged or the users being replied to which are already anonymized and doesnt add to the text's offensiveness."
      ],
      "metadata": {
        "id": "0j2G_jhGT1Sd"
      }
    },
    {
      "cell_type": "code",
      "source": [
        "train_df[\"tweet\"]=train_df[\"tweet\"].str.replace(\"@USER\",\"\")"
      ],
      "metadata": {
        "id": "Z3wGzObIPjU6"
      },
      "execution_count": 119,
      "outputs": []
    },
    {
      "cell_type": "code",
      "source": [
        "train_df.head(10)"
      ],
      "metadata": {
        "colab": {
          "base_uri": "https://localhost:8080/",
          "height": 0
        },
        "id": "ocS5Au6xTyz1",
        "outputId": "8338e23d-cce0-4a43-b6d5-b4eda8090c55"
      },
      "execution_count": 120,
      "outputs": [
        {
          "output_type": "execute_result",
          "data": {
            "text/plain": [
              "      id  \\\n",
              "0  42884   \n",
              "1  92152   \n",
              "2  65475   \n",
              "3  22144   \n",
              "4  81048   \n",
              "5  73339   \n",
              "6  70063   \n",
              "7  80222   \n",
              "8  90554   \n",
              "9  77399   \n",
              "\n",
              "                                                                                                                                                                                                                                                                            tweet  \\\n",
              "0         I’m done with you as well. An INTENTIONAL 11th hour attack completely based on hearsay and you want an investigation? What do you think they’ll find other than he said she said. Feinstein admitted she sat on this and here you are ready to lockstep with the swamp.   \n",
              "1                                                                                                                                                                                        I now have over 6k followers.  Only 94k to go to get to my goal!  #TrumpTrain #MAGA #KAG   \n",
              "2                                                                                                                                                                                                              Tom was bought! He is more interested in Tom than his constituents   \n",
              "3                                                                                                                                                                                                                                   Even her brother thinks she is a monster: URL   \n",
              "4       I can understand that and if it’s someone I know I’ll debate with them but I’m not willing to spend that much time trying to change the mind of someone I don’t know I tryed that with people and gun control and it just get stupid because they won’t try to understand   \n",
              "5                                                                                                                                                                                                              Help help liberals... sexual assaults with facts... where are You?   \n",
              "6        She knows something the liberals don't want to talk about. She said Canada was at risk\" three times in the House of Commons before she crossed the aisle. Coming from someone of her background, I'd be inclineed to take the warning seriously. Call me old fashioned.\"   \n",
              "7                                                                                                                                                                                      So the march is against antifa bigots and labour anti-semitism then? Did I get that right?   \n",
              "8                                          lmao! You call this courage ? Courageous act will be she tearing apart say Quran and then you claiming she is your kind of woman ;). Majority of Hindus still don’t get offended by such acts no matter what MSM is showing these days   \n",
              "9                                                                                               LIAR!!! What supporters is she talking about??? I was embarrassed when our last president went on a world apology tour and he even bowed to them like he was their servant!!! URL   \n",
              "\n",
              "  label  \n",
              "0   NOT  \n",
              "1   NOT  \n",
              "2   NOT  \n",
              "3   OFF  \n",
              "4   OFF  \n",
              "5   NOT  \n",
              "6   NOT  \n",
              "7   NOT  \n",
              "8   NOT  \n",
              "9   OFF  "
            ],
            "text/html": [
              "\n",
              "  <div id=\"df-993914ad-dca7-4f20-a1e8-e78aafa34097\">\n",
              "    <div class=\"colab-df-container\">\n",
              "      <div>\n",
              "<style scoped>\n",
              "    .dataframe tbody tr th:only-of-type {\n",
              "        vertical-align: middle;\n",
              "    }\n",
              "\n",
              "    .dataframe tbody tr th {\n",
              "        vertical-align: top;\n",
              "    }\n",
              "\n",
              "    .dataframe thead th {\n",
              "        text-align: right;\n",
              "    }\n",
              "</style>\n",
              "<table border=\"1\" class=\"dataframe\">\n",
              "  <thead>\n",
              "    <tr style=\"text-align: right;\">\n",
              "      <th></th>\n",
              "      <th>id</th>\n",
              "      <th>tweet</th>\n",
              "      <th>label</th>\n",
              "    </tr>\n",
              "  </thead>\n",
              "  <tbody>\n",
              "    <tr>\n",
              "      <th>0</th>\n",
              "      <td>42884</td>\n",
              "      <td>I’m done with you as well. An INTENTIONAL 11th hour attack completely based on hearsay and you want an investigation? What do you think they’ll find other than he said she said. Feinstein admitted she sat on this and here you are ready to lockstep with the swamp.</td>\n",
              "      <td>NOT</td>\n",
              "    </tr>\n",
              "    <tr>\n",
              "      <th>1</th>\n",
              "      <td>92152</td>\n",
              "      <td>I now have over 6k followers.  Only 94k to go to get to my goal!  #TrumpTrain #MAGA #KAG</td>\n",
              "      <td>NOT</td>\n",
              "    </tr>\n",
              "    <tr>\n",
              "      <th>2</th>\n",
              "      <td>65475</td>\n",
              "      <td>Tom was bought! He is more interested in Tom than his constituents</td>\n",
              "      <td>NOT</td>\n",
              "    </tr>\n",
              "    <tr>\n",
              "      <th>3</th>\n",
              "      <td>22144</td>\n",
              "      <td>Even her brother thinks she is a monster: URL</td>\n",
              "      <td>OFF</td>\n",
              "    </tr>\n",
              "    <tr>\n",
              "      <th>4</th>\n",
              "      <td>81048</td>\n",
              "      <td>I can understand that and if it’s someone I know I’ll debate with them but I’m not willing to spend that much time trying to change the mind of someone I don’t know I tryed that with people and gun control and it just get stupid because they won’t try to understand</td>\n",
              "      <td>OFF</td>\n",
              "    </tr>\n",
              "    <tr>\n",
              "      <th>5</th>\n",
              "      <td>73339</td>\n",
              "      <td>Help help liberals... sexual assaults with facts... where are You?</td>\n",
              "      <td>NOT</td>\n",
              "    </tr>\n",
              "    <tr>\n",
              "      <th>6</th>\n",
              "      <td>70063</td>\n",
              "      <td>She knows something the liberals don't want to talk about. She said Canada was at risk\" three times in the House of Commons before she crossed the aisle. Coming from someone of her background, I'd be inclineed to take the warning seriously. Call me old fashioned.\"</td>\n",
              "      <td>NOT</td>\n",
              "    </tr>\n",
              "    <tr>\n",
              "      <th>7</th>\n",
              "      <td>80222</td>\n",
              "      <td>So the march is against antifa bigots and labour anti-semitism then? Did I get that right?</td>\n",
              "      <td>NOT</td>\n",
              "    </tr>\n",
              "    <tr>\n",
              "      <th>8</th>\n",
              "      <td>90554</td>\n",
              "      <td>lmao! You call this courage ? Courageous act will be she tearing apart say Quran and then you claiming she is your kind of woman ;). Majority of Hindus still don’t get offended by such acts no matter what MSM is showing these days</td>\n",
              "      <td>NOT</td>\n",
              "    </tr>\n",
              "    <tr>\n",
              "      <th>9</th>\n",
              "      <td>77399</td>\n",
              "      <td>LIAR!!! What supporters is she talking about??? I was embarrassed when our last president went on a world apology tour and he even bowed to them like he was their servant!!! URL</td>\n",
              "      <td>OFF</td>\n",
              "    </tr>\n",
              "  </tbody>\n",
              "</table>\n",
              "</div>\n",
              "      <button class=\"colab-df-convert\" onclick=\"convertToInteractive('df-993914ad-dca7-4f20-a1e8-e78aafa34097')\"\n",
              "              title=\"Convert this dataframe to an interactive table.\"\n",
              "              style=\"display:none;\">\n",
              "        \n",
              "  <svg xmlns=\"http://www.w3.org/2000/svg\" height=\"24px\"viewBox=\"0 0 24 24\"\n",
              "       width=\"24px\">\n",
              "    <path d=\"M0 0h24v24H0V0z\" fill=\"none\"/>\n",
              "    <path d=\"M18.56 5.44l.94 2.06.94-2.06 2.06-.94-2.06-.94-.94-2.06-.94 2.06-2.06.94zm-11 1L8.5 8.5l.94-2.06 2.06-.94-2.06-.94L8.5 2.5l-.94 2.06-2.06.94zm10 10l.94 2.06.94-2.06 2.06-.94-2.06-.94-.94-2.06-.94 2.06-2.06.94z\"/><path d=\"M17.41 7.96l-1.37-1.37c-.4-.4-.92-.59-1.43-.59-.52 0-1.04.2-1.43.59L10.3 9.45l-7.72 7.72c-.78.78-.78 2.05 0 2.83L4 21.41c.39.39.9.59 1.41.59.51 0 1.02-.2 1.41-.59l7.78-7.78 2.81-2.81c.8-.78.8-2.07 0-2.86zM5.41 20L4 18.59l7.72-7.72 1.47 1.35L5.41 20z\"/>\n",
              "  </svg>\n",
              "      </button>\n",
              "      \n",
              "  <style>\n",
              "    .colab-df-container {\n",
              "      display:flex;\n",
              "      flex-wrap:wrap;\n",
              "      gap: 12px;\n",
              "    }\n",
              "\n",
              "    .colab-df-convert {\n",
              "      background-color: #E8F0FE;\n",
              "      border: none;\n",
              "      border-radius: 50%;\n",
              "      cursor: pointer;\n",
              "      display: none;\n",
              "      fill: #1967D2;\n",
              "      height: 32px;\n",
              "      padding: 0 0 0 0;\n",
              "      width: 32px;\n",
              "    }\n",
              "\n",
              "    .colab-df-convert:hover {\n",
              "      background-color: #E2EBFA;\n",
              "      box-shadow: 0px 1px 2px rgba(60, 64, 67, 0.3), 0px 1px 3px 1px rgba(60, 64, 67, 0.15);\n",
              "      fill: #174EA6;\n",
              "    }\n",
              "\n",
              "    [theme=dark] .colab-df-convert {\n",
              "      background-color: #3B4455;\n",
              "      fill: #D2E3FC;\n",
              "    }\n",
              "\n",
              "    [theme=dark] .colab-df-convert:hover {\n",
              "      background-color: #434B5C;\n",
              "      box-shadow: 0px 1px 3px 1px rgba(0, 0, 0, 0.15);\n",
              "      filter: drop-shadow(0px 1px 2px rgba(0, 0, 0, 0.3));\n",
              "      fill: #FFFFFF;\n",
              "    }\n",
              "  </style>\n",
              "\n",
              "      <script>\n",
              "        const buttonEl =\n",
              "          document.querySelector('#df-993914ad-dca7-4f20-a1e8-e78aafa34097 button.colab-df-convert');\n",
              "        buttonEl.style.display =\n",
              "          google.colab.kernel.accessAllowed ? 'block' : 'none';\n",
              "\n",
              "        async function convertToInteractive(key) {\n",
              "          const element = document.querySelector('#df-993914ad-dca7-4f20-a1e8-e78aafa34097');\n",
              "          const dataTable =\n",
              "            await google.colab.kernel.invokeFunction('convertToInteractive',\n",
              "                                                     [key], {});\n",
              "          if (!dataTable) return;\n",
              "\n",
              "          const docLinkHtml = 'Like what you see? Visit the ' +\n",
              "            '<a target=\"_blank\" href=https://colab.research.google.com/notebooks/data_table.ipynb>data table notebook</a>'\n",
              "            + ' to learn more about interactive tables.';\n",
              "          element.innerHTML = '';\n",
              "          dataTable['output_type'] = 'display_data';\n",
              "          await google.colab.output.renderOutput(dataTable, element);\n",
              "          const docLink = document.createElement('div');\n",
              "          docLink.innerHTML = docLinkHtml;\n",
              "          element.appendChild(docLink);\n",
              "        }\n",
              "      </script>\n",
              "    </div>\n",
              "  </div>\n",
              "  "
            ]
          },
          "metadata": {},
          "execution_count": 120
        }
      ]
    },
    {
      "cell_type": "markdown",
      "source": [
        "Additionally, removing 'URL' as the URL itself is not present and adds nothing of value by its own"
      ],
      "metadata": {
        "id": "NszoQbXwUnj4"
      }
    },
    {
      "cell_type": "code",
      "source": [
        "train_df[\"tweet\"]=train_df[\"tweet\"].str.replace(\"URL\",\"\")"
      ],
      "metadata": {
        "id": "bWXXS9P1Tzvq"
      },
      "execution_count": 121,
      "outputs": []
    },
    {
      "cell_type": "code",
      "source": [
        "train_df.head(10)"
      ],
      "metadata": {
        "colab": {
          "base_uri": "https://localhost:8080/",
          "height": 0
        },
        "id": "JEvJScwKUkJH",
        "outputId": "e9341af7-ee68-46a9-bdaa-7bf2ebea7f69"
      },
      "execution_count": 122,
      "outputs": [
        {
          "output_type": "execute_result",
          "data": {
            "text/plain": [
              "      id  \\\n",
              "0  42884   \n",
              "1  92152   \n",
              "2  65475   \n",
              "3  22144   \n",
              "4  81048   \n",
              "5  73339   \n",
              "6  70063   \n",
              "7  80222   \n",
              "8  90554   \n",
              "9  77399   \n",
              "\n",
              "                                                                                                                                                                                                                                                                            tweet  \\\n",
              "0         I’m done with you as well. An INTENTIONAL 11th hour attack completely based on hearsay and you want an investigation? What do you think they’ll find other than he said she said. Feinstein admitted she sat on this and here you are ready to lockstep with the swamp.   \n",
              "1                                                                                                                                                                                        I now have over 6k followers.  Only 94k to go to get to my goal!  #TrumpTrain #MAGA #KAG   \n",
              "2                                                                                                                                                                                                              Tom was bought! He is more interested in Tom than his constituents   \n",
              "3                                                                                                                                                                                                                                      Even her brother thinks she is a monster:    \n",
              "4       I can understand that and if it’s someone I know I’ll debate with them but I’m not willing to spend that much time trying to change the mind of someone I don’t know I tryed that with people and gun control and it just get stupid because they won’t try to understand   \n",
              "5                                                                                                                                                                                                              Help help liberals... sexual assaults with facts... where are You?   \n",
              "6        She knows something the liberals don't want to talk about. She said Canada was at risk\" three times in the House of Commons before she crossed the aisle. Coming from someone of her background, I'd be inclineed to take the warning seriously. Call me old fashioned.\"   \n",
              "7                                                                                                                                                                                      So the march is against antifa bigots and labour anti-semitism then? Did I get that right?   \n",
              "8                                          lmao! You call this courage ? Courageous act will be she tearing apart say Quran and then you claiming she is your kind of woman ;). Majority of Hindus still don’t get offended by such acts no matter what MSM is showing these days   \n",
              "9                                                                                                  LIAR!!! What supporters is she talking about??? I was embarrassed when our last president went on a world apology tour and he even bowed to them like he was their servant!!!    \n",
              "\n",
              "  label  \n",
              "0   NOT  \n",
              "1   NOT  \n",
              "2   NOT  \n",
              "3   OFF  \n",
              "4   OFF  \n",
              "5   NOT  \n",
              "6   NOT  \n",
              "7   NOT  \n",
              "8   NOT  \n",
              "9   OFF  "
            ],
            "text/html": [
              "\n",
              "  <div id=\"df-5b7d7669-63fa-4b9d-8e1c-b0f9ca9c6767\">\n",
              "    <div class=\"colab-df-container\">\n",
              "      <div>\n",
              "<style scoped>\n",
              "    .dataframe tbody tr th:only-of-type {\n",
              "        vertical-align: middle;\n",
              "    }\n",
              "\n",
              "    .dataframe tbody tr th {\n",
              "        vertical-align: top;\n",
              "    }\n",
              "\n",
              "    .dataframe thead th {\n",
              "        text-align: right;\n",
              "    }\n",
              "</style>\n",
              "<table border=\"1\" class=\"dataframe\">\n",
              "  <thead>\n",
              "    <tr style=\"text-align: right;\">\n",
              "      <th></th>\n",
              "      <th>id</th>\n",
              "      <th>tweet</th>\n",
              "      <th>label</th>\n",
              "    </tr>\n",
              "  </thead>\n",
              "  <tbody>\n",
              "    <tr>\n",
              "      <th>0</th>\n",
              "      <td>42884</td>\n",
              "      <td>I’m done with you as well. An INTENTIONAL 11th hour attack completely based on hearsay and you want an investigation? What do you think they’ll find other than he said she said. Feinstein admitted she sat on this and here you are ready to lockstep with the swamp.</td>\n",
              "      <td>NOT</td>\n",
              "    </tr>\n",
              "    <tr>\n",
              "      <th>1</th>\n",
              "      <td>92152</td>\n",
              "      <td>I now have over 6k followers.  Only 94k to go to get to my goal!  #TrumpTrain #MAGA #KAG</td>\n",
              "      <td>NOT</td>\n",
              "    </tr>\n",
              "    <tr>\n",
              "      <th>2</th>\n",
              "      <td>65475</td>\n",
              "      <td>Tom was bought! He is more interested in Tom than his constituents</td>\n",
              "      <td>NOT</td>\n",
              "    </tr>\n",
              "    <tr>\n",
              "      <th>3</th>\n",
              "      <td>22144</td>\n",
              "      <td>Even her brother thinks she is a monster:</td>\n",
              "      <td>OFF</td>\n",
              "    </tr>\n",
              "    <tr>\n",
              "      <th>4</th>\n",
              "      <td>81048</td>\n",
              "      <td>I can understand that and if it’s someone I know I’ll debate with them but I’m not willing to spend that much time trying to change the mind of someone I don’t know I tryed that with people and gun control and it just get stupid because they won’t try to understand</td>\n",
              "      <td>OFF</td>\n",
              "    </tr>\n",
              "    <tr>\n",
              "      <th>5</th>\n",
              "      <td>73339</td>\n",
              "      <td>Help help liberals... sexual assaults with facts... where are You?</td>\n",
              "      <td>NOT</td>\n",
              "    </tr>\n",
              "    <tr>\n",
              "      <th>6</th>\n",
              "      <td>70063</td>\n",
              "      <td>She knows something the liberals don't want to talk about. She said Canada was at risk\" three times in the House of Commons before she crossed the aisle. Coming from someone of her background, I'd be inclineed to take the warning seriously. Call me old fashioned.\"</td>\n",
              "      <td>NOT</td>\n",
              "    </tr>\n",
              "    <tr>\n",
              "      <th>7</th>\n",
              "      <td>80222</td>\n",
              "      <td>So the march is against antifa bigots and labour anti-semitism then? Did I get that right?</td>\n",
              "      <td>NOT</td>\n",
              "    </tr>\n",
              "    <tr>\n",
              "      <th>8</th>\n",
              "      <td>90554</td>\n",
              "      <td>lmao! You call this courage ? Courageous act will be she tearing apart say Quran and then you claiming she is your kind of woman ;). Majority of Hindus still don’t get offended by such acts no matter what MSM is showing these days</td>\n",
              "      <td>NOT</td>\n",
              "    </tr>\n",
              "    <tr>\n",
              "      <th>9</th>\n",
              "      <td>77399</td>\n",
              "      <td>LIAR!!! What supporters is she talking about??? I was embarrassed when our last president went on a world apology tour and he even bowed to them like he was their servant!!!</td>\n",
              "      <td>OFF</td>\n",
              "    </tr>\n",
              "  </tbody>\n",
              "</table>\n",
              "</div>\n",
              "      <button class=\"colab-df-convert\" onclick=\"convertToInteractive('df-5b7d7669-63fa-4b9d-8e1c-b0f9ca9c6767')\"\n",
              "              title=\"Convert this dataframe to an interactive table.\"\n",
              "              style=\"display:none;\">\n",
              "        \n",
              "  <svg xmlns=\"http://www.w3.org/2000/svg\" height=\"24px\"viewBox=\"0 0 24 24\"\n",
              "       width=\"24px\">\n",
              "    <path d=\"M0 0h24v24H0V0z\" fill=\"none\"/>\n",
              "    <path d=\"M18.56 5.44l.94 2.06.94-2.06 2.06-.94-2.06-.94-.94-2.06-.94 2.06-2.06.94zm-11 1L8.5 8.5l.94-2.06 2.06-.94-2.06-.94L8.5 2.5l-.94 2.06-2.06.94zm10 10l.94 2.06.94-2.06 2.06-.94-2.06-.94-.94-2.06-.94 2.06-2.06.94z\"/><path d=\"M17.41 7.96l-1.37-1.37c-.4-.4-.92-.59-1.43-.59-.52 0-1.04.2-1.43.59L10.3 9.45l-7.72 7.72c-.78.78-.78 2.05 0 2.83L4 21.41c.39.39.9.59 1.41.59.51 0 1.02-.2 1.41-.59l7.78-7.78 2.81-2.81c.8-.78.8-2.07 0-2.86zM5.41 20L4 18.59l7.72-7.72 1.47 1.35L5.41 20z\"/>\n",
              "  </svg>\n",
              "      </button>\n",
              "      \n",
              "  <style>\n",
              "    .colab-df-container {\n",
              "      display:flex;\n",
              "      flex-wrap:wrap;\n",
              "      gap: 12px;\n",
              "    }\n",
              "\n",
              "    .colab-df-convert {\n",
              "      background-color: #E8F0FE;\n",
              "      border: none;\n",
              "      border-radius: 50%;\n",
              "      cursor: pointer;\n",
              "      display: none;\n",
              "      fill: #1967D2;\n",
              "      height: 32px;\n",
              "      padding: 0 0 0 0;\n",
              "      width: 32px;\n",
              "    }\n",
              "\n",
              "    .colab-df-convert:hover {\n",
              "      background-color: #E2EBFA;\n",
              "      box-shadow: 0px 1px 2px rgba(60, 64, 67, 0.3), 0px 1px 3px 1px rgba(60, 64, 67, 0.15);\n",
              "      fill: #174EA6;\n",
              "    }\n",
              "\n",
              "    [theme=dark] .colab-df-convert {\n",
              "      background-color: #3B4455;\n",
              "      fill: #D2E3FC;\n",
              "    }\n",
              "\n",
              "    [theme=dark] .colab-df-convert:hover {\n",
              "      background-color: #434B5C;\n",
              "      box-shadow: 0px 1px 3px 1px rgba(0, 0, 0, 0.15);\n",
              "      filter: drop-shadow(0px 1px 2px rgba(0, 0, 0, 0.3));\n",
              "      fill: #FFFFFF;\n",
              "    }\n",
              "  </style>\n",
              "\n",
              "      <script>\n",
              "        const buttonEl =\n",
              "          document.querySelector('#df-5b7d7669-63fa-4b9d-8e1c-b0f9ca9c6767 button.colab-df-convert');\n",
              "        buttonEl.style.display =\n",
              "          google.colab.kernel.accessAllowed ? 'block' : 'none';\n",
              "\n",
              "        async function convertToInteractive(key) {\n",
              "          const element = document.querySelector('#df-5b7d7669-63fa-4b9d-8e1c-b0f9ca9c6767');\n",
              "          const dataTable =\n",
              "            await google.colab.kernel.invokeFunction('convertToInteractive',\n",
              "                                                     [key], {});\n",
              "          if (!dataTable) return;\n",
              "\n",
              "          const docLinkHtml = 'Like what you see? Visit the ' +\n",
              "            '<a target=\"_blank\" href=https://colab.research.google.com/notebooks/data_table.ipynb>data table notebook</a>'\n",
              "            + ' to learn more about interactive tables.';\n",
              "          element.innerHTML = '';\n",
              "          dataTable['output_type'] = 'display_data';\n",
              "          await google.colab.output.renderOutput(dataTable, element);\n",
              "          const docLink = document.createElement('div');\n",
              "          docLink.innerHTML = docLinkHtml;\n",
              "          element.appendChild(docLink);\n",
              "        }\n",
              "      </script>\n",
              "    </div>\n",
              "  </div>\n",
              "  "
            ]
          },
          "metadata": {},
          "execution_count": 122
        }
      ]
    },
    {
      "cell_type": "markdown",
      "source": [
        "Applying the same manipulation on test and valid as coherency between sets is extremely important to maintain"
      ],
      "metadata": {
        "id": "pzEyi8whU1kP"
      }
    },
    {
      "cell_type": "code",
      "source": [
        "test_df[\"tweet\"]=test_df[\"tweet\"].str.replace(\"@USER\",\"\")\n",
        "test_df[\"tweet\"]=test_df[\"tweet\"].str.replace(\"URL\",\"\")\n",
        "\n",
        "valid_df[\"tweet\"]=valid_df[\"tweet\"].str.replace(\"@USER\",\"\")\n",
        "valid_df[\"tweet\"]=valid_df[\"tweet\"].str.replace(\"URL\",\"\")"
      ],
      "metadata": {
        "id": "x1XbZEJkUlbd"
      },
      "execution_count": 123,
      "outputs": []
    },
    {
      "cell_type": "markdown",
      "source": [
        "Before we begin our modelling, we should also cater to the way vocabulary is currently represented, lower() to have text in similar form is a good idea to implement"
      ],
      "metadata": {
        "id": "10-UEiXgU9MD"
      }
    },
    {
      "cell_type": "code",
      "source": [
        "train_df['tweet']=train_df['tweet'].apply(str.lower)\n",
        "valid_df['tweet']=valid_df['tweet'].apply(str.lower)\n",
        "test_df['tweet']=test_df['tweet'].apply(str.lower)"
      ],
      "metadata": {
        "id": "tDk9ezRlU6fr"
      },
      "execution_count": 124,
      "outputs": []
    },
    {
      "cell_type": "code",
      "source": [
        "train_df.head(5)"
      ],
      "metadata": {
        "colab": {
          "base_uri": "https://localhost:8080/",
          "height": 0
        },
        "id": "mSBEBcqLVnPA",
        "outputId": "4451eddc-4632-4b60-8671-ec064c20253c"
      },
      "execution_count": 125,
      "outputs": [
        {
          "output_type": "execute_result",
          "data": {
            "text/plain": [
              "      id  \\\n",
              "0  42884   \n",
              "1  92152   \n",
              "2  65475   \n",
              "3  22144   \n",
              "4  81048   \n",
              "\n",
              "                                                                                                                                                                                                                                                                            tweet  \\\n",
              "0         i’m done with you as well. an intentional 11th hour attack completely based on hearsay and you want an investigation? what do you think they’ll find other than he said she said. feinstein admitted she sat on this and here you are ready to lockstep with the swamp.   \n",
              "1                                                                                                                                                                                        i now have over 6k followers.  only 94k to go to get to my goal!  #trumptrain #maga #kag   \n",
              "2                                                                                                                                                                                                              tom was bought! he is more interested in tom than his constituents   \n",
              "3                                                                                                                                                                                                                                      even her brother thinks she is a monster:    \n",
              "4       i can understand that and if it’s someone i know i’ll debate with them but i’m not willing to spend that much time trying to change the mind of someone i don’t know i tryed that with people and gun control and it just get stupid because they won’t try to understand   \n",
              "\n",
              "  label  \n",
              "0   NOT  \n",
              "1   NOT  \n",
              "2   NOT  \n",
              "3   OFF  \n",
              "4   OFF  "
            ],
            "text/html": [
              "\n",
              "  <div id=\"df-7d7d0694-7481-49ec-bd1b-73df46a77aed\">\n",
              "    <div class=\"colab-df-container\">\n",
              "      <div>\n",
              "<style scoped>\n",
              "    .dataframe tbody tr th:only-of-type {\n",
              "        vertical-align: middle;\n",
              "    }\n",
              "\n",
              "    .dataframe tbody tr th {\n",
              "        vertical-align: top;\n",
              "    }\n",
              "\n",
              "    .dataframe thead th {\n",
              "        text-align: right;\n",
              "    }\n",
              "</style>\n",
              "<table border=\"1\" class=\"dataframe\">\n",
              "  <thead>\n",
              "    <tr style=\"text-align: right;\">\n",
              "      <th></th>\n",
              "      <th>id</th>\n",
              "      <th>tweet</th>\n",
              "      <th>label</th>\n",
              "    </tr>\n",
              "  </thead>\n",
              "  <tbody>\n",
              "    <tr>\n",
              "      <th>0</th>\n",
              "      <td>42884</td>\n",
              "      <td>i’m done with you as well. an intentional 11th hour attack completely based on hearsay and you want an investigation? what do you think they’ll find other than he said she said. feinstein admitted she sat on this and here you are ready to lockstep with the swamp.</td>\n",
              "      <td>NOT</td>\n",
              "    </tr>\n",
              "    <tr>\n",
              "      <th>1</th>\n",
              "      <td>92152</td>\n",
              "      <td>i now have over 6k followers.  only 94k to go to get to my goal!  #trumptrain #maga #kag</td>\n",
              "      <td>NOT</td>\n",
              "    </tr>\n",
              "    <tr>\n",
              "      <th>2</th>\n",
              "      <td>65475</td>\n",
              "      <td>tom was bought! he is more interested in tom than his constituents</td>\n",
              "      <td>NOT</td>\n",
              "    </tr>\n",
              "    <tr>\n",
              "      <th>3</th>\n",
              "      <td>22144</td>\n",
              "      <td>even her brother thinks she is a monster:</td>\n",
              "      <td>OFF</td>\n",
              "    </tr>\n",
              "    <tr>\n",
              "      <th>4</th>\n",
              "      <td>81048</td>\n",
              "      <td>i can understand that and if it’s someone i know i’ll debate with them but i’m not willing to spend that much time trying to change the mind of someone i don’t know i tryed that with people and gun control and it just get stupid because they won’t try to understand</td>\n",
              "      <td>OFF</td>\n",
              "    </tr>\n",
              "  </tbody>\n",
              "</table>\n",
              "</div>\n",
              "      <button class=\"colab-df-convert\" onclick=\"convertToInteractive('df-7d7d0694-7481-49ec-bd1b-73df46a77aed')\"\n",
              "              title=\"Convert this dataframe to an interactive table.\"\n",
              "              style=\"display:none;\">\n",
              "        \n",
              "  <svg xmlns=\"http://www.w3.org/2000/svg\" height=\"24px\"viewBox=\"0 0 24 24\"\n",
              "       width=\"24px\">\n",
              "    <path d=\"M0 0h24v24H0V0z\" fill=\"none\"/>\n",
              "    <path d=\"M18.56 5.44l.94 2.06.94-2.06 2.06-.94-2.06-.94-.94-2.06-.94 2.06-2.06.94zm-11 1L8.5 8.5l.94-2.06 2.06-.94-2.06-.94L8.5 2.5l-.94 2.06-2.06.94zm10 10l.94 2.06.94-2.06 2.06-.94-2.06-.94-.94-2.06-.94 2.06-2.06.94z\"/><path d=\"M17.41 7.96l-1.37-1.37c-.4-.4-.92-.59-1.43-.59-.52 0-1.04.2-1.43.59L10.3 9.45l-7.72 7.72c-.78.78-.78 2.05 0 2.83L4 21.41c.39.39.9.59 1.41.59.51 0 1.02-.2 1.41-.59l7.78-7.78 2.81-2.81c.8-.78.8-2.07 0-2.86zM5.41 20L4 18.59l7.72-7.72 1.47 1.35L5.41 20z\"/>\n",
              "  </svg>\n",
              "      </button>\n",
              "      \n",
              "  <style>\n",
              "    .colab-df-container {\n",
              "      display:flex;\n",
              "      flex-wrap:wrap;\n",
              "      gap: 12px;\n",
              "    }\n",
              "\n",
              "    .colab-df-convert {\n",
              "      background-color: #E8F0FE;\n",
              "      border: none;\n",
              "      border-radius: 50%;\n",
              "      cursor: pointer;\n",
              "      display: none;\n",
              "      fill: #1967D2;\n",
              "      height: 32px;\n",
              "      padding: 0 0 0 0;\n",
              "      width: 32px;\n",
              "    }\n",
              "\n",
              "    .colab-df-convert:hover {\n",
              "      background-color: #E2EBFA;\n",
              "      box-shadow: 0px 1px 2px rgba(60, 64, 67, 0.3), 0px 1px 3px 1px rgba(60, 64, 67, 0.15);\n",
              "      fill: #174EA6;\n",
              "    }\n",
              "\n",
              "    [theme=dark] .colab-df-convert {\n",
              "      background-color: #3B4455;\n",
              "      fill: #D2E3FC;\n",
              "    }\n",
              "\n",
              "    [theme=dark] .colab-df-convert:hover {\n",
              "      background-color: #434B5C;\n",
              "      box-shadow: 0px 1px 3px 1px rgba(0, 0, 0, 0.15);\n",
              "      filter: drop-shadow(0px 1px 2px rgba(0, 0, 0, 0.3));\n",
              "      fill: #FFFFFF;\n",
              "    }\n",
              "  </style>\n",
              "\n",
              "      <script>\n",
              "        const buttonEl =\n",
              "          document.querySelector('#df-7d7d0694-7481-49ec-bd1b-73df46a77aed button.colab-df-convert');\n",
              "        buttonEl.style.display =\n",
              "          google.colab.kernel.accessAllowed ? 'block' : 'none';\n",
              "\n",
              "        async function convertToInteractive(key) {\n",
              "          const element = document.querySelector('#df-7d7d0694-7481-49ec-bd1b-73df46a77aed');\n",
              "          const dataTable =\n",
              "            await google.colab.kernel.invokeFunction('convertToInteractive',\n",
              "                                                     [key], {});\n",
              "          if (!dataTable) return;\n",
              "\n",
              "          const docLinkHtml = 'Like what you see? Visit the ' +\n",
              "            '<a target=\"_blank\" href=https://colab.research.google.com/notebooks/data_table.ipynb>data table notebook</a>'\n",
              "            + ' to learn more about interactive tables.';\n",
              "          element.innerHTML = '';\n",
              "          dataTable['output_type'] = 'display_data';\n",
              "          await google.colab.output.renderOutput(dataTable, element);\n",
              "          const docLink = document.createElement('div');\n",
              "          docLink.innerHTML = docLinkHtml;\n",
              "          element.appendChild(docLink);\n",
              "        }\n",
              "      </script>\n",
              "    </div>\n",
              "  </div>\n",
              "  "
            ]
          },
          "metadata": {},
          "execution_count": 125
        }
      ]
    },
    {
      "cell_type": "markdown",
      "source": [
        "From the paper linked in the instruction manual provided to us, we get this chart that shows how certain keywords are associated with Offensive as percentage"
      ],
      "metadata": {
        "id": "3E0l09Alz-l9"
      }
    },
    {
      "cell_type": "markdown",
      "source": [
        "![image.png]()![image.png](data:image/png;base64,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)"
      ],
      "metadata": {
        "id": "X43hsG-Az7Jp"
      }
    },
    {
      "cell_type": "markdown",
      "source": [
        "**compute_performance** is taken from the template code provided in the assignment and is used in train_method1 for computing accuracy, recall, precision and F1 Score.\n",
        "\n",
        "**Recall**: Recall measures the completeness of positive predictions\n",
        "\n",
        "**Precision**: Precision measures the accuracy of positive predictions\n",
        "\n",
        "**F1-Score:** It combines the precision and recall scores of a model\n",
        "\n",
        "**Accuracy:** A good metric for balanced datasets (TP+TN/TP+TN+FN+FP)\n",
        "\n",
        "AUC: A good metric for when dataset is imbalanced."
      ],
      "metadata": {
        "id": "qz68nTZr4Zm4"
      }
    },
    {
      "cell_type": "code",
      "source": [
        "def compute_performance(y_true, y_pred):\n",
        "    \"\"\"\n",
        "    Prints different performance metrics like accuracy, recall (macro), precision (macro), and F1 (macro).\n",
        "    Displays the confusion matrix with proper X & Y axis labels.\n",
        "    Returns the F1 score.\n",
        "\n",
        "    Args:\n",
        "        y_true: Numpy array or list containing true labels.\n",
        "        y_pred: Numpy array or list containing predicted labels.\n",
        "\n",
        "    Returns:\n",
        "        float: The F1 score.\n",
        "    \"\"\"\n",
        "    # Compute performance metrics\n",
        "    accuracy = accuracy_score(y_true, y_pred)\n",
        "    precision = precision_score(y_true, y_pred, average='macro')\n",
        "    recall = recall_score(y_true, y_pred, average='macro')\n",
        "    f1 = f1_score(y_true, y_pred, average='macro')\n",
        "\n",
        "    # Print performance metrics\n",
        "    print(f'Accuracy: {accuracy:.4f}')\n",
        "    print(f'Precision: {precision:.4f}')\n",
        "    print(f'Recall: {recall:.4f}')\n",
        "    print(f'F1 score: {f1:.4f}')\n",
        "\n",
        "    # Compute and display the confusion matrix\n",
        "    labels = sorted(list(set(y_true)))\n",
        "    cm = confusion_matrix(y_true, y_pred, labels=labels)\n",
        "    print('\\nConfusion matrix:')\n",
        "    print('\\t' + '\\t'.join(labels))\n",
        "    for i, label1 in enumerate(labels):\n",
        "        row = cm[i]\n",
        "        print(f'{label1}\\t' + '\\t'.join(str(x) for x in row))\n",
        "\n",
        "    return f1, accuracy, precision, recall\n"
      ],
      "metadata": {
        "id": "w9bG27WGBee7"
      },
      "execution_count": 126,
      "outputs": []
    },
    {
      "cell_type": "markdown",
      "source": [
        "### MODEL 1 - SVM"
      ],
      "metadata": {
        "id": "wZ4SvP6kTC-z"
      }
    },
    {
      "cell_type": "markdown",
      "source": [
        "In this method 1 below:\n",
        "-> the structure provided in the template code is used as a basis for training the first model, SVM - Support Vector Machines on a classification task with a linear kernel. It is chosen for two reasons, most papers scraped through in the first task and even in the paper linked in the assignment make use of it as it is a strong predictor and serves to break plenty of SOTA's of the past.\n",
        "\n",
        "SVMs in general have been SOTA for a great many tasks and do offensive speech classification quite well as well. \n",
        "\n",
        "In the implementation below, the text is lower cased, punctuations have been removed and stop words eliminated with the help of NLTK and regex.\n",
        "Finally, with TF-IDF as the basis for weighing words importance across document space i.e tweet space across rows, we find ourselves with a decent implementation below.\n",
        "\n",
        "\n",
        "1-) Remove Stopwords, lower-case all words, remove punctuations and finally, tokenize\n",
        "\n",
        "2-) Apply TF-IDF across the tweet space to create a tokenizer/feature space which is then fed to an SVM\n",
        "\n",
        "\n",
        "3-) Fit an SVM model and train!"
      ],
      "metadata": {
        "id": "Q7-WG1tVY1Wc"
      }
    },
    {
      "cell_type": "code",
      "source": [
        "def train_method1(train_file, val_file, model_dir, vectorizer_type='tfidf', ngram_range=(1, 1)):\n",
        "    \"\"\"\n",
        "     Trains an SVM model on the OLID dataset using unigrams.\n",
        "     Saves the best model in the specified model directory.\n",
        "     \n",
        "    Args:\n",
        "        train_file: Path to the training dataset file.\n",
        "        val_file: Path to the validation dataset file.\n",
        "        model_dir: Path to the model directory where the best model will be saved.\n",
        "        vectorizer_type: Type of vectorizer to use ('count' or 'tfidf'). Default is 'tfidf'.\n",
        "        ngram_range: The range of n-grams to use. Default is (1, 1) for unigrams.\n",
        "    \"\"\"\n",
        "    # Load the training and validation datasets\n",
        "    train_df = train_file\n",
        "    val_df = val_file\n",
        "    \n",
        "    # Preprocess the text data\n",
        "    train_df['tweet'] = train_df['tweet'].apply(lambda x: x.lower()) # Convert to lowercase\n",
        "    train_df['tweet'] = train_df['tweet'].str.replace('[^\\w\\s]','') # Remove punctuation\n",
        "    train_df['tweet'] = train_df['tweet'].apply(lambda x: ' '.join([word for word in x.split() if word not in nltk.corpus.stopwords.words('english')])) # Remove stop words\n",
        "    \n",
        "    val_df['tweet'] = val_df['tweet'].apply(lambda x: x.lower())\n",
        "    val_df['tweet'] = val_df['tweet'].str.replace('[^\\w\\s]','')\n",
        "    val_df['tweet'] = val_df['tweet'].apply(lambda x: ' '.join([word for word in x.split() if word not in nltk.corpus.stopwords.words('english')]))\n",
        "    \n",
        "    # Initialize a vectorizer\n",
        "    if vectorizer_type == 'count':\n",
        "        vectorizer = CountVectorizer(ngram_range=ngram_range)\n",
        "    elif vectorizer_type == 'tfidf':\n",
        "        vectorizer = TfidfVectorizer(ngram_range=ngram_range)\n",
        "    else:\n",
        "        raise ValueError('Invalid vectorizer type!')\n",
        "    \n",
        "    # Convert the text data into numerical features\n",
        "    X_train = vectorizer.fit_transform(train_df['tweet'])\n",
        "    y_train = train_df['label']\n",
        "    X_val = vectorizer.transform(val_df['tweet'])\n",
        "    y_val = val_df['label']\n",
        "    \n",
        "    # Train the SVM model\n",
        "    svm = SVC(kernel='linear')\n",
        "    svm.fit(X_train, y_train)\n",
        "    \n",
        "    # Evaluate the SVM model\n",
        "    y_pred = svm.predict(X_val)\n",
        "\n",
        "    compute_performance(y_val,y_pred)\n",
        "    \n",
        "    # Save the vocabulary\n",
        "    model_file = os.path.join(model_dir, 'vocabulary.pkl')\n",
        "    with open(model_file, 'wb') as f:\n",
        "        pickle.dump(vectorizer.vocabulary_, f)\n",
        "    \n",
        "    # Save the best model\n",
        "    if not os.path.exists(model_dir):\n",
        "        os.makedirs(model_dir)\n",
        "    model_file = os.path.join(model_dir, 'svm_unigrams.pkl')\n",
        "    with open(model_file, 'wb') as f:\n",
        "        pickle.dump(svm, f)\n",
        "\n",
        "    model_file = os.path.join(model_dir, 'vectorizer.pkl')\n",
        "    with open(model_file, 'wb') as f:\n",
        "        pickle.dump(vectorizer, f)"
      ],
      "metadata": {
        "id": "xX2nhto7Vth7"
      },
      "execution_count": 127,
      "outputs": []
    },
    {
      "cell_type": "markdown",
      "source": [
        "This here is a neat implementation on calling the train_method1 with stratified split so as to keep the same distribution across all data splits for measuring Data Size effect later on. With splits of train_df, we will train per split and report performance metrics in the end of each run.\n",
        "\n",
        "Model Directory is mentioned and passed to the function above and it allows for storing the final models for each split in the directory paths as directed in the assignment."
      ],
      "metadata": {
        "id": "8-gQCvfOcDBv"
      }
    },
    {
      "cell_type": "code",
      "source": [
        "import random\n",
        "\n",
        "train_sizes = [0.25, 0.5, 0.75, 1.0]\n",
        "train_dfs = []\n",
        "\n",
        "# Define the stratified splitter\n",
        "splitter = StratifiedShuffleSplit(n_splits=len(train_sizes), test_size=0.2, random_state=student_id)\n",
        "\n",
        "# Split the data using the splitter\n",
        "for i, (train_idx, _) in enumerate(splitter.split(train_df, train_df[\"label\"])):\n",
        "    size = train_sizes[i]\n",
        "    train_split_df = train_df.iloc[train_idx].sample(frac=size, random_state=student_id)\n",
        "    train_dfs.append(train_split_df)\n",
        "\n",
        "\n",
        "# Train the SVM model on each split of the training dataset\n",
        "for i, train_split_df in enumerate(train_dfs):\n",
        "    print('\\n')\n",
        "    print('Data Size:',str(int(train_sizes[i]*100))+'%')\n",
        "    \n",
        "    model_dir = os.path.join(MODEL_1_DIRECTORY, str(int(train_sizes[i]*100)))\n",
        "    train_method1(train_split_df, valid_df, model_dir, 'tfidf',(1, 1))\n"
      ],
      "metadata": {
        "colab": {
          "base_uri": "https://localhost:8080/"
        },
        "id": "N6QKaUu3-nFn",
        "outputId": "4b563be6-66d3-49a9-beef-7cc12f64c799"
      },
      "execution_count": 128,
      "outputs": [
        {
          "output_type": "stream",
          "name": "stdout",
          "text": [
            "\n",
            "\n",
            "Data Size: 25%\n",
            "Accuracy: 0.7368\n",
            "Precision: 0.7296\n",
            "Recall: 0.6373\n",
            "F1 score: 0.6441\n",
            "\n",
            "Confusion matrix:\n",
            "\tNOT\tOFF\n",
            "NOT\t578\t41\n",
            "OFF\t203\t105\n",
            "\n",
            "\n",
            "Data Size: 50%\n",
            "Accuracy: 0.7616\n",
            "Precision: 0.7526\n",
            "Recall: 0.6804\n",
            "F1 score: 0.6939\n",
            "\n",
            "Confusion matrix:\n",
            "\tNOT\tOFF\n",
            "NOT\t571\t48\n",
            "OFF\t173\t135\n",
            "\n",
            "\n",
            "Data Size: 75%\n",
            "Accuracy: 0.7573\n",
            "Precision: 0.7417\n",
            "Recall: 0.6796\n",
            "F1 score: 0.6923\n",
            "\n",
            "Confusion matrix:\n",
            "\tNOT\tOFF\n",
            "NOT\t564\t55\n",
            "OFF\t170\t138\n",
            "\n",
            "\n",
            "Data Size: 100%\n",
            "Accuracy: 0.7562\n",
            "Precision: 0.7352\n",
            "Recall: 0.6845\n",
            "F1 score: 0.6966\n",
            "\n",
            "Confusion matrix:\n",
            "\tNOT\tOFF\n",
            "NOT\t556\t63\n",
            "OFF\t163\t145\n"
          ]
        }
      ]
    },
    {
      "cell_type": "code",
      "source": [
        "splitter"
      ],
      "metadata": {
        "colab": {
          "base_uri": "https://localhost:8080/"
        },
        "id": "AbjYUSow-cKY",
        "outputId": "b2e5c557-c820-48c4-e5a1-2ee6737c77b8"
      },
      "execution_count": 129,
      "outputs": [
        {
          "output_type": "execute_result",
          "data": {
            "text/plain": [
              "StratifiedShuffleSplit(n_splits=4, random_state=2213409, test_size=0.2,\n",
              "            train_size=None)"
            ]
          },
          "metadata": {},
          "execution_count": 129
        }
      ]
    },
    {
      "cell_type": "markdown",
      "source": [
        "This is an implementation of the function template provided in assignment link.\n",
        "\n",
        "1. We store the vectorizer and use it to transform the test set\n",
        "2. We apply the same normalizations we did to the train set\n",
        "3. We fit the saved model by loading it and predicting on our test file\n",
        "3. We make use of the compute_performance function for computing test metrics\n",
        "4. Thats it!"
      ],
      "metadata": {
        "id": "tZ8dwFuPnqxD"
      }
    },
    {
      "cell_type": "code",
      "source": [
        "def test_method1(test_file, model_file, vectorizer_file, output_dir):\n",
        "    \"\"\"\n",
        "    Tests an SVM model on the test dataset using unigrams.\n",
        "    Prints different evaluation metrics and saves the output in output directory.\n",
        "    \n",
        "    Args:\n",
        "        test_file: Path to the test dataset file.\n",
        "        model_file: Path to the saved SVM model.\n",
        "        vectorizer_file: Path to the saved vectorizer file.\n",
        "        output_dir: Path to the output directory where the predictions will be saved.\n",
        "    \"\"\"\n",
        "    # Load the test dataset\n",
        "    test_df = test_file\n",
        "    \n",
        "    # Preprocess the text data\n",
        "    test_df['tweet'] = test_df['tweet'].apply(lambda x: x.lower()) # Convert to lowercase\n",
        "    test_df['tweet'] = test_df['tweet'].str.replace('[^\\w\\s]','') # Remove punctuation\n",
        "    test_df['tweet'] = test_df['tweet'].apply(lambda x: ' '.join([word for word in x.split() if word not in nltk.corpus.stopwords.words('english')])) # Remove stop words\n",
        "    \n",
        "    # Load the saved SVM model\n",
        "    with open(model_file, 'rb') as f:\n",
        "        svm = pickle.load(f)\n",
        "    \n",
        "    # Load the saved vectorizer\n",
        "    with open(vectorizer_file, 'rb') as f:\n",
        "        vectorizer = pickle.load(f)\n",
        "    \n",
        "    # Convert the text data into numerical features\n",
        "    X_test = vectorizer.transform(test_df['tweet'])\n",
        "    y_test = test_df['label']\n",
        "    \n",
        "    # Predict the labels for the test set\n",
        "    y_pred = svm.predict(X_test)\n",
        "    \n",
        "    # Evaluate the performance of the model on the test set\n",
        "    compute_performance(y_test, y_pred)\n",
        "    \n",
        "    # Save the predictions to an output file\n",
        "    test_df['out_label'] = y_pred\n",
        "    test_df.to_csv(os.path.join(output_dir, 'output_test.csv'), index=False)"
      ],
      "metadata": {
        "id": "glFiyW8znrFt"
      },
      "execution_count": 130,
      "outputs": []
    },
    {
      "cell_type": "markdown",
      "source": [
        "This simply calls the function above part by part based on model_1 directories:25, 50, 75, 100 and the models & vectorizer within."
      ],
      "metadata": {
        "id": "1QCwz2HLpTpg"
      }
    },
    {
      "cell_type": "code",
      "source": [
        "# Test each model on the test data\n",
        "for i, train_split_df in enumerate(train_dfs):\n",
        "    print('\\nData Size:',str(int(train_sizes[i]*100))+'%')\n",
        "\n",
        "    # Load the best model\n",
        "    model_dir = os.path.join(MODEL_1_DIRECTORY, str(int(train_sizes[i]*100)))\n",
        "    model_file = os.path.join(model_dir, 'svm_unigrams.pkl')\n",
        "    vec_ = os.path.join(model_dir, 'vectorizer.pkl')\n",
        "    # Test the model on the test data\n",
        "    output_dir = os.path.join(MODEL_1_DIRECTORY, str(int(train_sizes[i]*100)))\n",
        "    if not os.path.exists(output_dir):\n",
        "        os.makedirs(output_dir)\n",
        "    test_method1(test_df, model_file,vec_, output_dir)"
      ],
      "metadata": {
        "colab": {
          "base_uri": "https://localhost:8080/"
        },
        "id": "8wN2gu4LpSsJ",
        "outputId": "2499c3dd-a169-4cf3-ea32-e4352196cb90"
      },
      "execution_count": 131,
      "outputs": [
        {
          "output_type": "stream",
          "name": "stdout",
          "text": [
            "\n",
            "Data Size: 25%\n",
            "Accuracy: 0.7930\n",
            "Precision: 0.7861\n",
            "Recall: 0.6611\n",
            "F1 score: 0.6821\n",
            "\n",
            "Confusion matrix:\n",
            "\tNOT\tOFF\n",
            "NOT\t595\t25\n",
            "OFF\t153\t87\n",
            "\n",
            "Data Size: 50%\n",
            "Accuracy: 0.8105\n",
            "Precision: 0.7985\n",
            "Recall: 0.6987\n",
            "F1 score: 0.7231\n",
            "\n",
            "Confusion matrix:\n",
            "\tNOT\tOFF\n",
            "NOT\t590\t30\n",
            "OFF\t133\t107\n",
            "\n",
            "Data Size: 75%\n",
            "Accuracy: 0.8140\n",
            "Precision: 0.8095\n",
            "Recall: 0.6999\n",
            "F1 score: 0.7256\n",
            "\n",
            "Confusion matrix:\n",
            "\tNOT\tOFF\n",
            "NOT\t594\t26\n",
            "OFF\t134\t106\n",
            "\n",
            "Data Size: 100%\n",
            "Accuracy: 0.8186\n",
            "Precision: 0.8225\n",
            "Recall: 0.7031\n",
            "F1 score: 0.7304\n",
            "\n",
            "Confusion matrix:\n",
            "\tNOT\tOFF\n",
            "NOT\t598\t22\n",
            "OFF\t134\t106\n"
          ]
        }
      ]
    },
    {
      "cell_type": "markdown",
      "source": [
        "### MODEL 2 - CNN"
      ],
      "metadata": {
        "id": "CUPoTQzsTMhC"
      }
    },
    {
      "cell_type": "markdown",
      "source": [
        "This model is crafted after reviewing literature review and observing the guidelines multiple times. Initially, a BERT based implementation was thought of but was deemed inefficient compute wise.\n",
        "\n",
        "This task starts with first converting the label column to integers which is done below."
      ],
      "metadata": {
        "id": "zQEUYGGich_C"
      }
    },
    {
      "cell_type": "code",
      "source": [
        "# Preprocess the label data\n",
        "train_df['label'] = train_df['label'].apply(lambda x: 0 if x == 'NOT' else 1)\n",
        "valid_df['label'] = valid_df['label'].apply(lambda x: 0 if x == 'NOT' else 1)"
      ],
      "metadata": {
        "id": "9iIlSyo-fddV"
      },
      "execution_count": 132,
      "outputs": []
    },
    {
      "cell_type": "code",
      "source": [
        "valid_df['label'].value_counts()"
      ],
      "metadata": {
        "colab": {
          "base_uri": "https://localhost:8080/"
        },
        "id": "FYEK7Qf3Zhr7",
        "outputId": "ecab87e0-88e4-4a3c-8c9f-c0889c9076d9"
      },
      "execution_count": 133,
      "outputs": [
        {
          "output_type": "execute_result",
          "data": {
            "text/plain": [
              "0    619\n",
              "1    308\n",
              "Name: label, dtype: int64"
            ]
          },
          "metadata": {},
          "execution_count": 133
        }
      ]
    },
    {
      "cell_type": "markdown",
      "source": [
        "The following implementation was quite hard to craft but alas, it was up and running with wide array of help provided from Stack Overflow and Github issues. (Dimension related issues were painful!)\n",
        "\n",
        "1. First, a tokenizer is placed, no stop-words or punctuations have been removed.\n",
        "Secondly, we fit the tokenizer on to our text and pad the sequences to have equal length (this is extremely necassary!)\n",
        "\n",
        "2. Then, we convert our data space to fasttext representation word by word for both train and validation. Earlier there was an Embedding layer but that didn't work out as we needed to lock the size on the first layer so that test data could be converted to fasttext and be predicted upon. \n",
        "\n",
        "3. After the Dense layer is infused in our custom architecture, we place a Conv1D below it to recieve the learnings from our embedding layer and into our convolution operation. This allows for learning local features and then to pass it to GlobalMaxPool1D allows for capturing the most important information entire the entire space and then using a dropout for regularization effect.\n",
        "\n",
        "4. The regularization was necassary as the gap between training-testing was large in the beginning.\n",
        "\n",
        "5. We also make use of class_weights to handle class imbalance as the recall on validation set was less than 0.5 at all times of training.\n",
        "\n",
        "6. Finally, we fit the model and extract precision, recall and accuracy across multiple splits of the data done to perform Data Size effect journey.\n",
        "\n",
        "7. We save the models in the directory as suggested in the assignment and the below piece is defined completely.\n"
      ],
      "metadata": {
        "id": "uMgHh3ORczLf"
      }
    },
    {
      "cell_type": "code",
      "source": [
        "from keras.layers import Reshape\n",
        "import tensorflow as tf\n",
        "from tensorflow import *\n",
        "def train_method2(train_df, val_df, model_dir, word_vectors):\n",
        "    # Tokenize the text data and convert to sequences\n",
        "    tokenizer = tf.keras.preprocessing.text.Tokenizer()\n",
        "    tokenizer.fit_on_texts(train_df['tweet'])\n",
        "    X_train = tokenizer.texts_to_sequences(train_df['tweet'])\n",
        "    X_val = tokenizer.texts_to_sequences(val_df['tweet'])\n",
        "\n",
        "    # Save the tokenizer to file\n",
        "    with open(os.path.join(model_dir, 'tokenizer.pkl'), 'wb') as f:\n",
        "        pickle.dump(tokenizer, f)\n",
        "\n",
        "    # Pad the sequences to have equal length\n",
        "    max_length = max(len(sequence) for sequence in X_train)\n",
        "    X_train = tf.keras.preprocessing.sequence.pad_sequences(X_train, maxlen=max_length, padding='post')\n",
        "    X_val = tf.keras.preprocessing.sequence.pad_sequences(X_val, maxlen=max_length, padding='post')\n",
        "\n",
        "    # Convert text to FastText embeddings\n",
        "    X_train_ft = []\n",
        "    for tweet in train_df['tweet']:\n",
        "        tweet_vec = np.zeros((word_vectors.vector_size,))\n",
        "        words = tweet.split()\n",
        "        for word in words:\n",
        "            if word in word_vectors:\n",
        "                tweet_vec += word_vectors[word]\n",
        "        X_train_ft.append(tweet_vec)\n",
        "    X_train_ft = np.array(X_train_ft)\n",
        "\n",
        "    X_val_ft = []\n",
        "    for tweet in val_df['tweet']:\n",
        "        tweet_vec = np.zeros((word_vectors.vector_size,))\n",
        "        words = tweet.split()\n",
        "        for word in words:\n",
        "            if word in word_vectors:\n",
        "                tweet_vec += word_vectors[word]\n",
        "        X_val_ft.append(tweet_vec)\n",
        "    X_val_ft = np.array(X_val_ft)\n",
        "\n",
        "    # Create the model\n",
        "    model = Sequential([\n",
        "        Dense(300, input_shape=(word_vectors.vector_size,), trainable=True),\n",
        "        Reshape((300,1)),\n",
        "        Conv1D(128, 5, activation='relu'),\n",
        "        GlobalMaxPooling1D(),\n",
        "        Dropout(0.5),\n",
        "        Dense(1, activation='sigmoid')\n",
        "    ])\n",
        "    model.compile(loss='binary_crossentropy', optimizer='adam', metrics=['accuracy',tf.keras.metrics.Precision(), tf.keras.metrics.Recall()])\n",
        "\n",
        "    # Calculate class weights\n",
        "    labels = train_df['label']\n",
        "    class_weights ={\n",
        "        0: 1 / np.sum(labels == 0),\n",
        "        1: 1 / np.sum(labels == 1)\n",
        "    }\n",
        "\n",
        "    # Train the model\n",
        "    best_val_loss = float('inf')\n",
        "    best_model_file = os.path.join(model_dir, 'fasttext_cnn.h5')\n",
        "\n",
        "    history = model.fit(X_train_ft, train_df['label'], batch_size=128, epochs=5, validation_data=(X_val_ft, val_df['label']),class_weight=class_weights)\n",
        "\n",
        "    # Save the best model\n",
        "    if history.history['val_loss'][-1] < best_val_loss:\n",
        "        model.save(best_model_file)\n"
      ],
      "metadata": {
        "id": "ILi46n4QuShY"
      },
      "execution_count": 134,
      "outputs": []
    },
    {
      "cell_type": "markdown",
      "source": [
        "This piece is similar to the one above that was created for train_method1, and we only limit it so that id is dropped and only tweet and labels are passed.\n",
        "\n",
        "model_dir is also changed. But the rest of the implementation is kept mostly the same."
      ],
      "metadata": {
        "id": "n2N14JDWfM05"
      }
    },
    {
      "cell_type": "code",
      "source": [
        "word_vectors = KeyedVectors.load_word2vec_format('/content/gdrive/MyDrive/CE807/Assignment2/2213409/wiki-news-300d-1M.vec')"
      ],
      "metadata": {
        "id": "mLaX5juBuI_f"
      },
      "execution_count": 135,
      "outputs": []
    },
    {
      "cell_type": "code",
      "source": [
        "import random\n",
        "\n",
        "train_sizes = [0.25, 0.5, 0.75, 1.0]\n",
        "train_dfs = []\n",
        "\n",
        "# Define the stratified splitter\n",
        "splitter = StratifiedShuffleSplit(n_splits=len(train_sizes), test_size=0.2, random_state=student_id)\n",
        "# Split the data using the splitter\n",
        "for i, (train_idx, _) in enumerate(splitter.split(train_df, train_df[\"label\"])):\n",
        "    size = train_sizes[i]\n",
        "    train_split_df = train_df.iloc[train_idx].sample(frac=size, random_state=student_id)\n",
        "    train_dfs.append(train_split_df[[\"tweet\", \"label\"]])\n",
        "\n",
        "\n",
        "# Train the model on each split of the training dataset\n",
        "for i, train_split_df in enumerate(train_dfs):\n",
        "    print('\\n')\n",
        "    print('Data Size:',str(int(train_sizes[i]*100))+'%')\n",
        "\n",
        "    model_dir = os.path.join(MODEL_2_DIRECTORY, str(int(train_sizes[i]*100)))\n",
        "    train_method2(train_split_df, valid_df[[\"tweet\", \"label\"]], model_dir,word_vectors)\n"
      ],
      "metadata": {
        "colab": {
          "base_uri": "https://localhost:8080/"
        },
        "id": "7dJzQNfo-4Wl",
        "outputId": "1c968d55-d072-48ef-efcd-969e5ce60f6a"
      },
      "execution_count": 136,
      "outputs": [
        {
          "output_type": "stream",
          "name": "stdout",
          "text": [
            "\n",
            "\n",
            "Data Size: 25%\n",
            "Epoch 1/5\n",
            "20/20 [==============================] - 3s 90ms/step - loss: 5.9607e-04 - accuracy: 0.4846 - precision_4: 0.3353 - recall_4: 0.5554 - val_loss: 0.6906 - val_accuracy: 0.5696 - val_precision_4: 0.3893 - val_recall_4: 0.5195\n",
            "Epoch 2/5\n",
            "20/20 [==============================] - 1s 74ms/step - loss: 5.7679e-04 - accuracy: 0.5305 - precision_4: 0.3589 - recall_4: 0.5189 - val_loss: 0.6864 - val_accuracy: 0.5976 - val_precision_4: 0.4201 - val_recall_4: 0.5552\n",
            "Epoch 3/5\n",
            "20/20 [==============================] - 1s 73ms/step - loss: 5.6374e-04 - accuracy: 0.5703 - precision_4: 0.3916 - recall_4: 0.5213 - val_loss: 0.6860 - val_accuracy: 0.6095 - val_precision_4: 0.4456 - val_recall_4: 0.7175\n",
            "Epoch 4/5\n",
            "20/20 [==============================] - 1s 70ms/step - loss: 5.4817e-04 - accuracy: 0.5914 - precision_4: 0.4203 - recall_4: 0.5944 - val_loss: 0.6800 - val_accuracy: 0.6311 - val_precision_4: 0.4667 - val_recall_4: 0.7727\n",
            "Epoch 5/5\n",
            "20/20 [==============================] - 2s 81ms/step - loss: 5.2437e-04 - accuracy: 0.6515 - precision_4: 0.4830 - recall_4: 0.6395 - val_loss: 0.6488 - val_accuracy: 0.7131 - val_precision_4: 0.5556 - val_recall_4: 0.6818\n",
            "\n",
            "\n",
            "Data Size: 50%\n",
            "Epoch 1/5\n",
            "39/39 [==============================] - 6s 98ms/step - loss: 2.9227e-04 - accuracy: 0.5251 - precision_5: 0.3664 - recall_5: 0.5482 - val_loss: 0.6834 - val_accuracy: 0.6160 - val_precision_5: 0.4286 - val_recall_5: 0.4675\n",
            "Epoch 2/5\n",
            "39/39 [==============================] - 3s 68ms/step - loss: 2.7877e-04 - accuracy: 0.5803 - precision_5: 0.4110 - recall_5: 0.5470 - val_loss: 0.6730 - val_accuracy: 0.6386 - val_precision_5: 0.4663 - val_recall_5: 0.6071\n",
            "Epoch 3/5\n",
            "39/39 [==============================] - 3s 67ms/step - loss: 2.6598e-04 - accuracy: 0.6502 - precision_5: 0.4873 - recall_5: 0.5961 - val_loss: 0.6782 - val_accuracy: 0.6354 - val_precision_5: 0.4699 - val_recall_5: 0.7597\n",
            "Epoch 4/5\n",
            "39/39 [==============================] - 3s 67ms/step - loss: 2.5658e-04 - accuracy: 0.6871 - precision_5: 0.5334 - recall_5: 0.6218 - val_loss: 0.6641 - val_accuracy: 0.6807 - val_precision_5: 0.5130 - val_recall_5: 0.7695\n",
            "Epoch 5/5\n",
            "39/39 [==============================] - 5s 117ms/step - loss: 2.5047e-04 - accuracy: 0.6985 - precision_5: 0.5486 - recall_5: 0.6278 - val_loss: 0.6482 - val_accuracy: 0.7033 - val_precision_5: 0.5388 - val_recall_5: 0.7435\n",
            "\n",
            "\n",
            "Data Size: 75%\n",
            "Epoch 1/5\n",
            "58/58 [==============================] - 6s 73ms/step - loss: 1.9301e-04 - accuracy: 0.5208 - precision_6: 0.3600 - recall_6: 0.5689 - val_loss: 0.6735 - val_accuracy: 0.6742 - val_precision_6: 0.5238 - val_recall_6: 0.2143\n",
            "Epoch 2/5\n",
            "58/58 [==============================] - 7s 114ms/step - loss: 1.8486e-04 - accuracy: 0.5945 - precision_6: 0.4099 - recall_6: 0.5024 - val_loss: 0.6731 - val_accuracy: 0.6311 - val_precision_6: 0.4560 - val_recall_6: 0.5714\n",
            "Epoch 3/5\n",
            "58/58 [==============================] - 4s 67ms/step - loss: 1.7483e-04 - accuracy: 0.6662 - precision_6: 0.4980 - recall_6: 0.6112 - val_loss: 0.6751 - val_accuracy: 0.6505 - val_precision_6: 0.4837 - val_recall_6: 0.7727\n",
            "Epoch 4/5\n",
            "58/58 [==============================] - 4s 70ms/step - loss: 1.6687e-04 - accuracy: 0.7029 - precision_6: 0.5450 - recall_6: 0.6394 - val_loss: 0.6548 - val_accuracy: 0.6926 - val_precision_6: 0.5257 - val_recall_6: 0.7630\n",
            "Epoch 5/5\n",
            "58/58 [==============================] - 6s 98ms/step - loss: 1.5964e-04 - accuracy: 0.7327 - precision_6: 0.5867 - recall_6: 0.6606 - val_loss: 0.6442 - val_accuracy: 0.7109 - val_precision_6: 0.5459 - val_recall_6: 0.7727\n",
            "\n",
            "\n",
            "Data Size: 100%\n",
            "Epoch 1/5\n",
            "77/77 [==============================] - 7s 73ms/step - loss: 1.4581e-04 - accuracy: 0.5211 - precision_7: 0.3522 - recall_7: 0.5258 - val_loss: 0.6745 - val_accuracy: 0.6559 - val_precision_7: 0.4631 - val_recall_7: 0.2240\n",
            "Epoch 2/5\n",
            "77/77 [==============================] - 8s 102ms/step - loss: 1.3791e-04 - accuracy: 0.6066 - precision_7: 0.4257 - recall_7: 0.5267 - val_loss: 0.6763 - val_accuracy: 0.6343 - val_precision_7: 0.4675 - val_recall_7: 0.7240\n",
            "Epoch 3/5\n",
            "77/77 [==============================] - 5s 69ms/step - loss: 1.2858e-04 - accuracy: 0.6824 - precision_7: 0.5186 - recall_7: 0.6172 - val_loss: 0.6351 - val_accuracy: 0.7087 - val_precision_7: 0.5485 - val_recall_7: 0.6981\n",
            "Epoch 4/5\n",
            "77/77 [==============================] - 7s 92ms/step - loss: 1.2182e-04 - accuracy: 0.7251 - precision_7: 0.5793 - recall_7: 0.6306 - val_loss: 0.6533 - val_accuracy: 0.6990 - val_precision_7: 0.5315 - val_recall_7: 0.7955\n",
            "Epoch 5/5\n",
            "77/77 [==============================] - 6s 80ms/step - loss: 1.1695e-04 - accuracy: 0.7346 - precision_7: 0.5903 - recall_7: 0.6581 - val_loss: 0.6244 - val_accuracy: 0.7163 - val_precision_7: 0.5540 - val_recall_7: 0.7500\n"
          ]
        }
      ]
    },
    {
      "cell_type": "markdown",
      "source": [
        "This is a simple implementation where we make use of tokenizer used above and word_vectors once compiled didnt need to be run again. \n",
        "Afterwards, it is a straight forward applying the same things on test that were applied to train i.e tokenization and then converting it to to fast_text embeddings and predicting away and storing it as the format requires.\n",
        "\n",
        "Finally, we convert back the 1 and 0 format of the label to be able to match and utilize compute_performance built earlier on."
      ],
      "metadata": {
        "id": "yj1mgEYL6Bly"
      }
    },
    {
      "cell_type": "code",
      "source": [
        "from tensorflow.keras.models import *\n",
        "from tensorflow.keras.models import load_model\n",
        "def test_method2(test_file, model_file, tokenizer_file, output_dir, word_vectors):\n",
        "    \"\"\"\n",
        "    Tests a CNN model on the test dataset using FastText embeddings.\n",
        "    Prints different evaluation metrics and saves the output in output directory.\n",
        "    \n",
        "    Args:\n",
        "        test_file: Path to the test dataset file.\n",
        "        model_file: Path to the saved CNN model.\n",
        "        tokenizer_file: Path to the saved tokenizer file.\n",
        "        output_dir: Path to the output directory where the predictions will be saved.\n",
        "        word_vectors: Pre-trained FastText word vectors.\n",
        "    \"\"\"\n",
        "    \n",
        "    # Load the saved tokenizer\n",
        "    with open(tokenizer_file, 'rb') as f:\n",
        "        tokenizer = pickle.load(f)\n",
        "    \n",
        "    # Tokenize the text data and convert to sequences\n",
        "    X_test = tokenizer.texts_to_sequences(test_df['tweet'])\n",
        "\n",
        "    # Pad the sequences to have equal length\n",
        "    max_length = len(max(X_test, key=len))\n",
        "    X_test = tf.keras.preprocessing.sequence.pad_sequences(X_test, maxlen=max_length, padding='post')\n",
        "\n",
        "    # Convert text to FastText embeddings\n",
        "    X_test_ft = []\n",
        "    for tweet in test_df['tweet']:\n",
        "        tweet_vec = np.zeros((word_vectors.vector_size,))\n",
        "        words = tweet.split()\n",
        "        for word in words:\n",
        "            if word in word_vectors:\n",
        "                tweet_vec += word_vectors[word]\n",
        "        X_test_ft.append(tweet_vec)\n",
        "    X_test_ft = np.array(X_test_ft)\n",
        "\n",
        "    # Load the saved CNN model\n",
        "    model = load_model(model_file)\n",
        "\n",
        "    # Predict the labels for the test set\n",
        "    y_pred = model.predict(X_test_ft)\n",
        "\n",
        "    # Convert predicted probabilities to labels\n",
        "    y_pred = np.where(y_pred > 0.5, 'OFF', 'NOT')\n",
        "\n",
        "    # Evaluate the performance of the model on the test set\n",
        "    y_test = test_df['label']\n",
        "    compute_performance(y_test, y_pred)\n",
        "\n",
        "    # Save the predictions to an output file\n",
        "    test_df['out_label'] = y_pred\n",
        "    test_df.to_csv(os.path.join(output_dir, 'output_test.csv'), index=False)\n"
      ],
      "metadata": {
        "id": "xUzu4v89NyI2"
      },
      "execution_count": 137,
      "outputs": []
    },
    {
      "cell_type": "code",
      "source": [
        "# Test each model on the test data\n",
        "\n",
        "for i, train_split_df in enumerate(train_dfs):\n",
        "    print('\\nData Size:', str(int(train_sizes[i]*100))+'%')\n",
        "\n",
        "    # Load the best model\n",
        "    model_dir = os.path.join(MODEL_2_DIRECTORY, str(int(train_sizes[i]*100)))\n",
        "    model_file = os.path.join(model_dir, 'fasttext_cnn.h5')\n",
        "    tokenizer = os.path.join(model_dir, 'tokenizer.pkl')\n",
        "    # Test the model on the test data\n",
        "    output_dir = os.path.join(model_dir, 'test_output')\n",
        "    if not os.path.exists(output_dir):\n",
        "        os.makedirs(output_dir)\n",
        "    test_method2(test_df, model_file, tokenizer,output_dir,word_vectors)\n"
      ],
      "metadata": {
        "colab": {
          "base_uri": "https://localhost:8080/"
        },
        "id": "Y6Zg7yXaO8j2",
        "outputId": "ed0cb264-b5b3-4b94-8448-aa398f6d7fda"
      },
      "execution_count": 138,
      "outputs": [
        {
          "output_type": "stream",
          "name": "stdout",
          "text": [
            "\n",
            "Data Size: 25%\n",
            "27/27 [==============================] - 0s 6ms/step\n",
            "Accuracy: 0.7174\n",
            "Precision: 0.6808\n",
            "Recall: 0.7159\n",
            "F1 score: 0.6853\n",
            "\n",
            "Confusion matrix:\n",
            "\tNOT\tOFF\n",
            "NOT\t446\t174\n",
            "OFF\t69\t171\n",
            "\n",
            "Data Size: 50%\n",
            "27/27 [==============================] - 0s 6ms/step\n",
            "Accuracy: 0.7105\n",
            "Precision: 0.6820\n",
            "Recall: 0.7213\n",
            "F1 score: 0.6830\n",
            "\n",
            "Confusion matrix:\n",
            "\tNOT\tOFF\n",
            "NOT\t432\t188\n",
            "OFF\t61\t179\n",
            "\n",
            "Data Size: 75%\n",
            "27/27 [==============================] - 0s 5ms/step\n",
            "Accuracy: 0.7256\n",
            "Precision: 0.6933\n",
            "Recall: 0.7331\n",
            "F1 score: 0.6970\n",
            "\n",
            "Confusion matrix:\n",
            "\tNOT\tOFF\n",
            "NOT\t444\t176\n",
            "OFF\t60\t180\n",
            "\n",
            "Data Size: 100%\n",
            "27/27 [==============================] - 0s 6ms/step\n",
            "Accuracy: 0.7547\n",
            "Precision: 0.7146\n",
            "Recall: 0.7519\n",
            "F1 score: 0.7229\n",
            "\n",
            "Confusion matrix:\n",
            "\tNOT\tOFF\n",
            "NOT\t470\t150\n",
            "OFF\t61\t179\n"
          ]
        }
      ]
    },
    {
      "cell_type": "code",
      "source": [],
      "metadata": {
        "id": "RFfxX6tJtyiw"
      },
      "execution_count": 138,
      "outputs": []
    },
    {
      "cell_type": "markdown",
      "source": [
        "### **Comparison/ Visualization**"
      ],
      "metadata": {
        "id": "bAXgSQ8cX3pC"
      }
    },
    {
      "cell_type": "code",
      "source": [
        "import matplotlib.pyplot as plt\n",
        "\n",
        "# Define the data sizes as percentages of the dataset\n",
        "data_sizes = [25, 50, 75, 100]\n",
        "\n",
        "# Model 1 performance metrics\n",
        "model1_accuracy = [0.7930, 0.8105, 0.8140, 0.8186]\n",
        "model1_precision = [0.7861, 0.7985, 0.8095, 0.8225]\n",
        "model1_recall = [0.6611, 0.6987, 0.6999, 0.7031]\n",
        "model1_f1 = [0.6821, 0.7231, 0.7256, 0.7304]\n",
        "\n",
        "# Model 2 performance metrics\n",
        "model2_accuracy = [0.6291, 0.6419, 0.7895, 0.7709]\n",
        "model2_precision = [0.6380, 0.6638, 0.7408, 0.7205]\n",
        "model2_recall = [0.6712, 0.7018, 0.7583, 0.7403]\n",
        "model2_f1 = [0.6134, 0.6306, 0.7480, 0.7282]\n",
        "\n",
        "# Create a figure with a specified size\n",
        "plt.figure(figsize=(10, 6))\n",
        "\n",
        "# Plot the performance metrics for Model 1\n",
        "plt.plot(data_sizes, model1_accuracy, marker='o', color='navy', label='Model 1 Accuracy')\n",
        "plt.plot(data_sizes, model1_precision, marker='o', color='royalblue', label='Model 1 Precision')\n",
        "plt.plot(data_sizes, model1_recall, marker='o', color='skyblue', label='Model 1 Recall')\n",
        "plt.plot(data_sizes, model1_f1, marker='o', color='steelblue', label='Model 1 F1 Score')\n",
        "\n",
        "# Plot the performance metrics for Model 2\n",
        "plt.plot(data_sizes, model2_accuracy, marker='o', color='crimson', label='Model 2 Accuracy')\n",
        "plt.plot(data_sizes, model2_precision, marker='o', color='salmon', label='Model 2 Precision')\n",
        "plt.plot(data_sizes, model2_recall, marker='o', color='coral', label='Model 2 Recall')\n",
        "plt.plot(data_sizes, model2_f1, marker='o', color='tomato', label='Model 2 F1 Score')\n",
        "\n",
        "# Label the x-axis and y-axis\n",
        "plt.xlabel('Data Size (%)')\n",
        "plt.ylabel('Score')\n",
        "\n",
        "# Add a title to the plot\n",
        "plt.title('Model Performance Comparison')\n",
        "\n",
        "# Display a legend for the plot\n",
        "plt.legend()\n",
        "\n",
        "# Add grid lines to the plot\n",
        "plt.grid()\n",
        "\n",
        "# Show the plot\n",
        "plt.show()\n"
      ],
      "metadata": {
        "colab": {
          "base_uri": "https://localhost:8080/",
          "height": 0
        },
        "id": "nK5v54nhYIzl",
        "outputId": "c4d44e4a-44c6-4373-ec6f-2780ac42681d"
      },
      "execution_count": 140,
      "outputs": [
        {
          "output_type": "display_data",
          "data": {
            "text/plain": [
              "<Figure size 1000x600 with 1 Axes>"
            ],
            "image/png": "[encoded data removed]"
          },
          "metadata": {}
        }
      ]
    },
    {
      "cell_type": "markdown",
      "source": [
        "### 5 Examples "
      ],
      "metadata": {
        "id": "HBbEPtfnBHjx"
      }
    },
    {
      "cell_type": "code",
      "source": [
        "def compute_performance2(y_true, y_pred):\n",
        "    \"\"\"\n",
        "    Prints different performance metrics like accuracy, recall (macro), precision (macro), and F1 (macro).\n",
        "    Displays the confusion matrix with proper X & Y axis labels.\n",
        "    Returns the F1 score.\n",
        "\n",
        "    Args:\n",
        "        y_true: Numpy array or list containing true labels.\n",
        "        y_pred: Numpy array or list containing predicted labels.\n",
        "\n",
        "    Returns:\n",
        "        float: The F1 score.\n",
        "    \"\"\"\n",
        "    # Compute performance metrics\n",
        "    accuracy = accuracy_score(y_true, y_pred)\n",
        "    precision = precision_score(y_true, y_pred, average='macro')\n",
        "    recall = recall_score(y_true, y_pred, average='macro')\n",
        "    f1 = f1_score(y_true, y_pred, average='macro')\n",
        "\n",
        "    # Print performance metrics\n",
        "    #print(y_true, y_pred)\n",
        "    print(f'Accuracy: {accuracy:.4f}')\n",
        "    print(f'Precision: {precision:.4f}')\n",
        "    print(f'Recall: {recall:.4f}')\n",
        "    print(f'F1 score: {f1:.4f}')\n",
        "\n",
        "    # Compute and display the confusion matrix\n",
        "    labels = sorted(list(set(y_true)))\n",
        "    cm = confusion_matrix(y_true, y_pred, labels=labels)\n",
        "    print('\\nConfusion matrix:')\n",
        "    print('\\t' + '\\t'.join(labels))\n",
        "    for i, label1 in enumerate(labels):\n",
        "        row = cm[i]\n",
        "        print(f'{label1}\\t' + '\\t'.join(str(x) for x in row))\n",
        "\n",
        "    return f1, accuracy, precision, recall\n"
      ],
      "metadata": {
        "id": "bWYUyQuQCYB9"
      },
      "execution_count": 141,
      "outputs": []
    },
    {
      "cell_type": "code",
      "source": [
        "import os\n",
        "import pandas as pd\n",
        "import pickle\n",
        "from sklearn.feature_extraction.text import TfidfVectorizer\n",
        "from sklearn.ensemble import RandomForestClassifier\n",
        "from sklearn.metrics import classification_report, confusion_matrix, accuracy_score\n",
        "\n",
        "# Assuming you have the preprocess_tweets function implemented\n",
        "# You should also have the compute_performance function implemented\n",
        "\n",
        "def test_method1(test_data, model_base_dir, train_size):\n",
        "   \n",
        "    # Construct the model directory path based on the train_size\n",
        "    model_dir = os.path.join(model_base_dir, str(train_size))\n",
        "    model_file = os.path.join(model_dir, 'svm_unigrams.pkl')\n",
        "\n",
        "    # Check if the model file exists\n",
        "    if not os.path.exists(model_file):\n",
        "        raise FileNotFoundError(f\"Model file not found: {model_file}\")\n",
        "\n",
        "    # Load the saved Random Forest model\n",
        "    with open(model_file, 'rb') as f:\n",
        "        rf = pickle.load(f)\n",
        "\n",
        "    # Load the saved TfidfVectorizer\n",
        "    vectorizer_file = os.path.join(model_dir, 'vectorizer.pkl')\n",
        "    with open(vectorizer_file, 'rb') as f:\n",
        "        vectorizer = pickle.load(f)\n",
        "\n",
        "    # Convert the text data into numerical features\n",
        "    X_test = vectorizer.transform(test_df['tweet'])\n",
        "    y_test = test_df['label']\n",
        "\n",
        "    # Evaluate the Random Forest model\n",
        "    y_pred = rf.predict(X_test)\n",
        "\n",
        "    compute_performance(y_test,y_pred)"
      ],
      "metadata": {
        "id": "Anm1OENIB7Ff"
      },
      "execution_count": 142,
      "outputs": []
    },
    {
      "cell_type": "code",
      "source": [
        "test_data"
      ],
      "metadata": {
        "colab": {
          "base_uri": "https://localhost:8080/"
        },
        "id": "gRdd-isoFrCi",
        "outputId": "5cfdee21-c8de-48f1-a1ec-715a6049b059"
      },
      "execution_count": 143,
      "outputs": [
        {
          "output_type": "execute_result",
          "data": {
            "text/plain": [
              "{'id': 27014,\n",
              " 'tweet': '#ConstitutionDay is revered by Conservatives, hated by Progressives/Socialist/Democrats that want to change it.',\n",
              " 'label': 'NOT'}"
            ]
          },
          "metadata": {},
          "execution_count": 143
        }
      ]
    },
    {
      "cell_type": "code",
      "source": [
        "from tensorflow.keras.preprocessing.sequence import pad_sequences\n",
        "\n",
        "def test_method2_manual(test_data, model_base_dir, train_size):\n",
        "   \n",
        "    # Construct the model directory path based on the train_size\n",
        "    model_dir = os.path.join(model_base_dir, str(train_size))\n",
        "    model_file = os.path.join(model_dir, 'fasttext_cnn.h5')\n",
        "\n",
        "    # Check if the model file exists\n",
        "    if not os.path.exists(model_file):\n",
        "        raise FileNotFoundError(f\"Model file not found: {model_file}\")\n",
        "\n",
        "    # Load the saved CNN model\n",
        "    cnn = tf.keras.models.load_model(model_file)\n",
        "\n",
        "    # Load the saved Tokenizer\n",
        "    tokenizer_file = os.path.join(model_dir, 'tokenizer.pkl')\n",
        "    with open(tokenizer_file, 'rb') as f:\n",
        "        tokenizer = pickle.load(f)\n",
        "\n",
        "    # Convert the text data into numerical features\n",
        "    X_test = tokenizer.texts_to_sequences(test_df['tweet'])\n",
        "    X_test = pad_sequences(X_test, maxlen=300, padding='post', truncating='post')\n",
        "    y_test = test_df['label']\n",
        "\n",
        "    # Evaluate the CNN model\n",
        "    y_pred = cnn.predict(X_test)\n",
        "    y_pred = [1 if x>0.5 else 0 for x in y_pred]\n",
        "\n",
        "    # Convert the true labels to integers\n",
        "    y_test = y_test.apply(lambda x: 1 if x == 'OFF' else 0)\n",
        "    \n",
        "    compute_performance(y_test, y_pred)\n"
      ],
      "metadata": {
        "id": "Vhr_CG7rC7s9"
      },
      "execution_count": 148,
      "outputs": []
    },
    {
      "cell_type": "code",
      "source": [
        "pip install h5py"
      ],
      "metadata": {
        "colab": {
          "base_uri": "https://localhost:8080/"
        },
        "id": "73VxnmuNGBSq",
        "outputId": "4ac24cfe-2fb5-4fa3-9a6a-e712bf72d452"
      },
      "execution_count": 145,
      "outputs": [
        {
          "output_type": "stream",
          "name": "stdout",
          "text": [
            "Looking in indexes: https://pypi.org/simple, https://us-python.pkg.dev/colab-wheels/public/simple/\n",
            "Requirement already satisfied: h5py in /usr/local/lib/python3.9/dist-packages (3.8.0)\n",
            "Requirement already satisfied: numpy>=1.14.5 in /usr/local/lib/python3.9/dist-packages (from h5py) (1.22.4)\n"
          ]
        }
      ]
    },
    {
      "cell_type": "markdown",
      "source": [
        "**Example 1**\n"
      ],
      "metadata": {
        "id": "H6Pk9UziOecJ"
      }
    },
    {
      "cell_type": "code",
      "source": [
        "# allocating the id, tweet and label to test on both models for the example\n",
        "test_data = {\n",
        "    'id': 27014,\n",
        "    'tweet': '#ConstitutionDay is revered by Conservatives, hated by Progressives/Socialist/Democrats that want to change it.',\n",
        "    'label': 'NOT'\n",
        "}\n",
        "model_1 = '/content/gdrive/MyDrive/CE807/Assignment2/2213409/models/1'\n",
        "model_2 = '/content/gdrive/MyDrive/CE807/Assignment2/2213409/models/2'\n",
        "\n",
        "print(\"Example 1\")\n",
        "# Calling my test_method1 function for each training size\n",
        "for train_size in [25, 50, 75, 100]:\n",
        "    print(f\"Testing model trained on {train_size}% data\")\n",
        "    print('model1:')\n",
        "    test_method1(test_data, model_1, train_size)\n",
        "    print('model2:')\n",
        "    test_method2(test_data, model_2, train_size)"
      ],
      "metadata": {
        "colab": {
          "base_uri": "https://localhost:8080/"
        },
        "id": "6ZtqDbbVBJUq",
        "outputId": "3e82f0e6-238a-487e-c96f-4787ffc4d826"
      },
      "execution_count": 149,
      "outputs": [
        {
          "output_type": "stream",
          "name": "stdout",
          "text": [
            "Example 1\n",
            "Testing model trained on 25% data\n",
            "model1:\n",
            "Accuracy: 0.7930\n",
            "Precision: 0.7861\n",
            "Recall: 0.6611\n",
            "F1 score: 0.6821\n",
            "\n",
            "Confusion matrix:\n",
            "\tNOT\tOFF\n",
            "NOT\t595\t25\n",
            "OFF\t153\t87\n",
            "model2:\n",
            "27/27 [==============================] - 0s 6ms/step\n",
            "Accuracy: 0.3198\n",
            "Precision: 0.5406\n",
            "Recall: 0.5129\n",
            "F1 score: 0.2882\n",
            "\n",
            "Confusion matrix:\n",
            "Unable to compute confusion matrix.\n",
            "Testing model trained on 50% data\n",
            "model1:\n",
            "Accuracy: 0.8105\n",
            "Precision: 0.7985\n",
            "Recall: 0.6987\n",
            "F1 score: 0.7231\n",
            "\n",
            "Confusion matrix:\n",
            "\tNOT\tOFF\n",
            "NOT\t590\t30\n",
            "OFF\t133\t107\n",
            "model2:\n",
            "27/27 [==============================] - 0s 6ms/step\n",
            "Accuracy: 0.2895\n",
            "Precision: 0.5953\n",
            "Recall: 0.5060\n",
            "F1 score: 0.2353\n",
            "\n",
            "Confusion matrix:\n",
            "Unable to compute confusion matrix.\n",
            "Testing model trained on 75% data\n",
            "model1:\n",
            "Accuracy: 0.8140\n",
            "Precision: 0.8095\n",
            "Recall: 0.6999\n",
            "F1 score: 0.7256\n",
            "\n",
            "Confusion matrix:\n",
            "\tNOT\tOFF\n",
            "NOT\t594\t26\n",
            "OFF\t134\t106\n",
            "model2:\n",
            "27/27 [==============================] - 0s 6ms/step\n",
            "Accuracy: 0.2849\n",
            "Precision: 0.5687\n",
            "Recall: 0.5028\n",
            "F1 score: 0.2282\n",
            "\n",
            "Confusion matrix:\n",
            "Unable to compute confusion matrix.\n",
            "Testing model trained on 100% data\n",
            "model1:\n",
            "Accuracy: 0.8186\n",
            "Precision: 0.8225\n",
            "Recall: 0.7031\n",
            "F1 score: 0.7304\n",
            "\n",
            "Confusion matrix:\n",
            "\tNOT\tOFF\n",
            "NOT\t598\t22\n",
            "OFF\t134\t106\n",
            "model2:\n",
            "27/27 [==============================] - 0s 6ms/step\n",
            "Accuracy: 0.2837\n",
            "Precision: 0.5147\n",
            "Recall: 0.5007\n",
            "F1 score: 0.2275\n",
            "\n",
            "Confusion matrix:\n",
            "Unable to compute confusion matrix.\n"
          ]
        }
      ]
    },
    {
      "cell_type": "markdown",
      "source": [
        "**Example 2**"
      ],
      "metadata": {
        "id": "jlZAHC0vO-vp"
      }
    },
    {
      "cell_type": "code",
      "source": [
        "# allocating the id, tweet and label to test on both models for the example\n",
        "test_data = {\n",
        "    'id': 12588,\n",
        "    'tweet': '@USER Nigga ware da hits at',\n",
        "    'label': 'OFF'\n",
        "}\n",
        "model_1 = '/content/gdrive/MyDrive/CE807/Assignment2/2213409/models/1'\n",
        "model_2 = '/content/gdrive/MyDrive/CE807/Assignment2/2213409/models/2'\n",
        "\n",
        "print(\"Example 2\")\n",
        "# Calling my test_method1 function for each training size\n",
        "for train_size in [25, 50, 75, 100]:\n",
        "    print(f\"Testing model trained on {train_size}% data\")\n",
        "    print('model1:')\n",
        "    test_method1(test_data, model_1, train_size)\n",
        "    print('model2:')\n",
        "    test_method2(test_data, model_2, train_size)"
      ],
      "metadata": {
        "colab": {
          "base_uri": "https://localhost:8080/"
        },
        "id": "EGI2lO8BO9HU",
        "outputId": "25300a2d-ef47-4bc0-eeb9-1a9492a808ad"
      },
      "execution_count": 150,
      "outputs": [
        {
          "output_type": "stream",
          "name": "stdout",
          "text": [
            "Example 2\n",
            "Testing model trained on 25% data\n",
            "model1:\n",
            "Accuracy: 0.7930\n",
            "Precision: 0.7861\n",
            "Recall: 0.6611\n",
            "F1 score: 0.6821\n",
            "\n",
            "Confusion matrix:\n",
            "\tNOT\tOFF\n",
            "NOT\t595\t25\n",
            "OFF\t153\t87\n",
            "model2:\n",
            "27/27 [==============================] - 0s 7ms/step\n",
            "Accuracy: 0.3198\n",
            "Precision: 0.5406\n",
            "Recall: 0.5129\n",
            "F1 score: 0.2882\n",
            "\n",
            "Confusion matrix:\n",
            "Unable to compute confusion matrix.\n",
            "Testing model trained on 50% data\n",
            "model1:\n",
            "Accuracy: 0.8105\n",
            "Precision: 0.7985\n",
            "Recall: 0.6987\n",
            "F1 score: 0.7231\n",
            "\n",
            "Confusion matrix:\n",
            "\tNOT\tOFF\n",
            "NOT\t590\t30\n",
            "OFF\t133\t107\n",
            "model2:\n",
            "27/27 [==============================] - 0s 6ms/step\n",
            "Accuracy: 0.2895\n",
            "Precision: 0.5953\n",
            "Recall: 0.5060\n",
            "F1 score: 0.2353\n",
            "\n",
            "Confusion matrix:\n",
            "Unable to compute confusion matrix.\n",
            "Testing model trained on 75% data\n",
            "model1:\n",
            "Accuracy: 0.8140\n",
            "Precision: 0.8095\n",
            "Recall: 0.6999\n",
            "F1 score: 0.7256\n",
            "\n",
            "Confusion matrix:\n",
            "\tNOT\tOFF\n",
            "NOT\t594\t26\n",
            "OFF\t134\t106\n",
            "model2:\n",
            "27/27 [==============================] - 0s 10ms/step\n",
            "Accuracy: 0.2849\n",
            "Precision: 0.5687\n",
            "Recall: 0.5028\n",
            "F1 score: 0.2282\n",
            "\n",
            "Confusion matrix:\n",
            "Unable to compute confusion matrix.\n",
            "Testing model trained on 100% data\n",
            "model1:\n",
            "Accuracy: 0.8186\n",
            "Precision: 0.8225\n",
            "Recall: 0.7031\n",
            "F1 score: 0.7304\n",
            "\n",
            "Confusion matrix:\n",
            "\tNOT\tOFF\n",
            "NOT\t598\t22\n",
            "OFF\t134\t106\n",
            "model2:\n",
            "27/27 [==============================] - 0s 8ms/step\n",
            "Accuracy: 0.2837\n",
            "Precision: 0.5147\n",
            "Recall: 0.5007\n",
            "F1 score: 0.2275\n",
            "\n",
            "Confusion matrix:\n",
            "Unable to compute confusion matrix.\n"
          ]
        }
      ]
    },
    {
      "cell_type": "markdown",
      "source": [
        "**Example 3**"
      ],
      "metadata": {
        "id": "wUe2GCf7Q2MG"
      }
    },
    {
      "cell_type": "code",
      "source": [
        "# allocating the id, tweet and label to test on both models for the example\n",
        "test_data = {\n",
        "    'id': 15938,\n",
        "    'tweet': 'Always smack URL',\n",
        "    'label': 'NOT'\n",
        "}\n",
        "model_base_dir1 = '/content/gdrive/MyDrive/CE807/Assignment2/2213409/models/1'\n",
        "model_base_dir2 = '/content/gdrive/MyDrive/CE807/Assignment2/2213409/models/2'\n",
        "\n",
        "print(\"Example 2\")\n",
        "# Calling my test_method1 function for each training size\n",
        "for train_size in [25, 50, 75, 100]:\n",
        "    print(f\"Testing model trained on {train_size}% data\")\n",
        "    print('model1:')\n",
        "    test_method1(test_data, model_1, train_size)\n",
        "    print('model2:')\n",
        "    test_method2(test_data, model_2, train_size)"
      ],
      "metadata": {
        "colab": {
          "base_uri": "https://localhost:8080/"
        },
        "id": "j9TEtW9dCqWF",
        "outputId": "f6c5a9d8-7591-4258-d518-88f8291ea557"
      },
      "execution_count": 151,
      "outputs": [
        {
          "output_type": "stream",
          "name": "stdout",
          "text": [
            "Example 2\n",
            "Testing model trained on 25% data\n",
            "model1:\n",
            "Accuracy: 0.7930\n",
            "Precision: 0.7861\n",
            "Recall: 0.6611\n",
            "F1 score: 0.6821\n",
            "\n",
            "Confusion matrix:\n",
            "\tNOT\tOFF\n",
            "NOT\t595\t25\n",
            "OFF\t153\t87\n",
            "model2:\n",
            "27/27 [==============================] - 0s 7ms/step\n",
            "Accuracy: 0.3198\n",
            "Precision: 0.5406\n",
            "Recall: 0.5129\n",
            "F1 score: 0.2882\n",
            "\n",
            "Confusion matrix:\n",
            "Unable to compute confusion matrix.\n",
            "Testing model trained on 50% data\n",
            "model1:\n",
            "Accuracy: 0.8105\n",
            "Precision: 0.7985\n",
            "Recall: 0.6987\n",
            "F1 score: 0.7231\n",
            "\n",
            "Confusion matrix:\n",
            "\tNOT\tOFF\n",
            "NOT\t590\t30\n",
            "OFF\t133\t107\n",
            "model2:\n",
            "27/27 [==============================] - 0s 6ms/step\n",
            "Accuracy: 0.2895\n",
            "Precision: 0.5953\n",
            "Recall: 0.5060\n",
            "F1 score: 0.2353\n",
            "\n",
            "Confusion matrix:\n",
            "Unable to compute confusion matrix.\n",
            "Testing model trained on 75% data\n",
            "model1:\n",
            "Accuracy: 0.8140\n",
            "Precision: 0.8095\n",
            "Recall: 0.6999\n",
            "F1 score: 0.7256\n",
            "\n",
            "Confusion matrix:\n",
            "\tNOT\tOFF\n",
            "NOT\t594\t26\n",
            "OFF\t134\t106\n",
            "model2:\n",
            "27/27 [==============================] - 0s 6ms/step\n",
            "Accuracy: 0.2849\n",
            "Precision: 0.5687\n",
            "Recall: 0.5028\n",
            "F1 score: 0.2282\n",
            "\n",
            "Confusion matrix:\n",
            "Unable to compute confusion matrix.\n",
            "Testing model trained on 100% data\n",
            "model1:\n",
            "Accuracy: 0.8186\n",
            "Precision: 0.8225\n",
            "Recall: 0.7031\n",
            "F1 score: 0.7304\n",
            "\n",
            "Confusion matrix:\n",
            "\tNOT\tOFF\n",
            "NOT\t598\t22\n",
            "OFF\t134\t106\n",
            "model2:\n",
            "27/27 [==============================] - 0s 9ms/step\n",
            "Accuracy: 0.2837\n",
            "Precision: 0.5147\n",
            "Recall: 0.5007\n",
            "F1 score: 0.2275\n",
            "\n",
            "Confusion matrix:\n",
            "Unable to compute confusion matrix.\n"
          ]
        }
      ]
    },
    {
      "cell_type": "markdown",
      "source": [
        "**Example 4**"
      ],
      "metadata": {
        "id": "2wld_RJARPil"
      }
    },
    {
      "cell_type": "code",
      "source": [
        "# allocating the id, tweet and label to test on both models for the example\n",
        "test_data = {\n",
        "    'id': 70569,\n",
        "    'tweet': '......bitch what URL',\n",
        "    'label': 'OFF'\n",
        "}\n",
        "model_1 = '/content/gdrive/MyDrive/CE807/Assignment2/2213409/models/1'\n",
        "model_2 = '/content/gdrive/MyDrive/CE807/Assignment2/2213409/models/2'\n",
        "\n",
        "print(\"Example 2\")\n",
        "# Calling my test_method1 function for each training size\n",
        "for train_size in [25, 50, 75, 100]:\n",
        "    print(f\"Testing model trained on {train_size}% data\")\n",
        "    print('model1:')\n",
        "    test_method1(test_data, model_1, train_size)\n",
        "    print('model2:')\n",
        "    test_method2(test_data, model_2, train_size)"
      ],
      "metadata": {
        "id": "ao3oWY-MRQCu"
      },
      "execution_count": null,
      "outputs": []
    },
    {
      "cell_type": "markdown",
      "source": [
        "**Example 5**"
      ],
      "metadata": {
        "id": "R9AgGLaZRw5M"
      }
    },
    {
      "cell_type": "code",
      "source": [
        "# allocating the id, tweet and label to test on both models for the example\n",
        "test_data = {\n",
        "    'id': 51628,\n",
        "    'tweet': '#Conservatives @USER - You\\'re  a clown!  URL',\n",
        "    'label': 'OFF'\n",
        "}\n",
        "model_1 = '/content/gdrive/MyDrive/CE807/Assignment2/2213409/models/1'\n",
        "model_2 = '/content/gdrive/MyDrive/CE807/Assignment2/2213409/models/2'\n",
        "\n",
        "print(\"Example 2\")\n",
        "# Calling my test_method1 function for each training size\n",
        "for train_size in [25, 50, 75, 100]:\n",
        "    print(f\"Testing model trained on {train_size}% data\")\n",
        "    print('model1:')\n",
        "    test_method1(test_data, model_1, train_size)\n",
        "    print('model2:')\n",
        "    test_method2(test_data, model_2, train_size)"
      ],
      "metadata": {
        "id": "mzEaxxm3R0TN"
      },
      "execution_count": null,
      "outputs": []
    }
  ]
}